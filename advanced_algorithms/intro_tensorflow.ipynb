{
 "cells": [
  {
   "cell_type": "markdown",
   "id": "e27db473",
   "metadata": {},
   "source": [
    "<p>Introduction into <b>TensorFlow</b></p>"
   ]
  },
  {
   "cell_type": "code",
   "execution_count": 28,
   "id": "41efc395",
   "metadata": {},
   "outputs": [],
   "source": [
    "import tensorflow as tf\n",
    "import pandas as pd\n",
    "import numpy as np\n",
    "from tensorflow.keras.layers import Dense, Input\n",
    "from tensorflow.keras.losses import MeanSquaredError, BinaryCrossentropy, SparseCategoricalCrossentropy\n",
    "from tensorflow.keras.models import Sequential\n",
    "import matplotlib.pyplot as plt\n",
    "from tensorflow.keras.activations import sigmoid, relu, softmax, linear\n",
    "from tensorflow.keras.callbacks import LambdaCallback\n",
    "from tensorflow.keras.optimizers import Adam\n",
    "from sklearn.preprocessing import MinMaxScaler"
   ]
  },
  {
   "cell_type": "code",
   "execution_count": 27,
   "id": "5eb89e7a",
   "metadata": {},
   "outputs": [
    {
     "name": "stdout",
     "output_type": "stream",
     "text": [
      "    9.520000000000000000e+02  2.000000000000000000e+00  \\\n",
      "0                     1244.0                       3.0   \n",
      "1                     1947.0                       3.0   \n",
      "2                     1725.0                       3.0   \n",
      "3                     1959.0                       3.0   \n",
      "4                     1314.0                       2.0   \n",
      "..                       ...                       ...   \n",
      "94                    1224.0                       2.0   \n",
      "95                    1432.0                       2.0   \n",
      "96                    1660.0                       3.0   \n",
      "97                    1212.0                       3.0   \n",
      "98                    1050.0                       2.0   \n",
      "\n",
      "    1.000000000000000000e+00  6.500000000000000000e+01  \\\n",
      "0                        1.0                      64.0   \n",
      "1                        2.0                      17.0   \n",
      "2                        2.0                      42.0   \n",
      "3                        2.0                      15.0   \n",
      "4                        1.0                      14.0   \n",
      "..                       ...                       ...   \n",
      "94                       2.0                      12.0   \n",
      "95                       1.0                      43.0   \n",
      "96                       2.0                      19.0   \n",
      "97                       1.0                      20.0   \n",
      "98                       1.0                      65.0   \n",
      "\n",
      "    2.715000000000000000e+02  \n",
      "0                      300.0  \n",
      "1                      509.8  \n",
      "2                      394.0  \n",
      "3                      540.0  \n",
      "4                      415.0  \n",
      "..                       ...  \n",
      "94                     329.0  \n",
      "95                     388.0  \n",
      "96                     390.0  \n",
      "97                     356.0  \n",
      "98                     257.8  \n",
      "\n",
      "[99 rows x 5 columns]\n"
     ]
    }
   ],
   "source": [
    "path = \"/home/sam/Documents/projects/machine_learning/data/houses.txt\"\n",
    "with open(path, \"r\") as file:\n",
    "    data = pd.read_csv(file)\n",
    "    \n",
    "print(data)\n"
   ]
  },
  {
   "cell_type": "code",
   "execution_count": 4,
   "id": "efa22aa7",
   "metadata": {},
   "outputs": [
    {
     "name": "stdout",
     "output_type": "stream",
     "text": [
      "Index(['9.520000000000000000e+02', '2.000000000000000000e+00',\n",
      "       '1.000000000000000000e+00', '6.500000000000000000e+01',\n",
      "       '2.715000000000000000e+02'],\n",
      "      dtype='object')\n"
     ]
    }
   ],
   "source": [
    "print(data.columns)"
   ]
  },
  {
   "cell_type": "code",
   "execution_count": 19,
   "id": "dfbeef80",
   "metadata": {},
   "outputs": [],
   "source": [
    "X = np.array(data[['9.520000000000000000e+02', '2.000000000000000000e+00',\n",
    "       '1.000000000000000000e+00', '6.500000000000000000e+01']])\n",
    "Y = np.array(data[\"2.715000000000000000e+02\"]).reshape((99, 1))"
   ]
  },
  {
   "cell_type": "code",
   "execution_count": 20,
   "id": "11f1d5b0",
   "metadata": {},
   "outputs": [
    {
     "name": "stdout",
     "output_type": "stream",
     "text": [
      "(99, 1)\n",
      "(99, 4)\n"
     ]
    }
   ],
   "source": [
    "print(Y.shape)\n",
    "print(X.shape)"
   ]
  },
  {
   "cell_type": "markdown",
   "id": "7f1336e6",
   "metadata": {},
   "source": [
    "<p>Build a neural network model with four layers</p>"
   ]
  },
  {
   "cell_type": "code",
   "execution_count": 30,
   "id": "5f86657e",
   "metadata": {},
   "outputs": [
    {
     "name": "stdout",
     "output_type": "stream",
     "text": [
      "Epoch 0: Cost: 3626.8940\n",
      "Epoch 100: Cost: 2605.3904\n",
      "Epoch 200: Cost: 2626.6438\n",
      "Epoch 300: Cost: 2748.0403\n",
      "Epoch 400: Cost: 2376.2268\n",
      "Epoch 500: Cost: 2403.6284\n",
      "Epoch 600: Cost: 2340.4973\n",
      "Epoch 700: Cost: 2174.8076\n",
      "Epoch 800: Cost: 1912.2559\n",
      "Epoch 900: Cost: 2345.8140\n",
      "Epoch 1000: Cost: 1940.4100\n",
      "Epoch 1100: Cost: 1507.0641\n",
      "Epoch 1200: Cost: 1176.0742\n",
      "Epoch 1300: Cost: 1007.7576\n",
      "Epoch 1400: Cost: 1043.3967\n",
      "Epoch 1500: Cost: 874.2327\n",
      "Epoch 1600: Cost: 599.6199\n",
      "Epoch 1700: Cost: 873.8104\n",
      "Epoch 1800: Cost: 547.1035\n",
      "Epoch 1900: Cost: 616.5281\n",
      "Epoch 2000: Cost: 603.5197\n",
      "Epoch 2100: Cost: 846.7098\n",
      "Epoch 2200: Cost: 536.2705\n",
      "Epoch 2300: Cost: 678.7761\n",
      "Epoch 2400: Cost: 484.9008\n",
      "Epoch 2500: Cost: 1056.4470\n",
      "Epoch 2600: Cost: 486.8701\n",
      "Epoch 2700: Cost: 458.7963\n",
      "Epoch 2800: Cost: 2600.2944\n",
      "Epoch 2900: Cost: 657.7026\n"
     ]
    },
    {
     "data": {
      "text/plain": [
       "<keras.src.callbacks.History at 0x7f98a00ba250>"
      ]
     },
     "execution_count": 30,
     "metadata": {},
     "output_type": "execute_result"
    }
   ],
   "source": [
    "def print_cost(epoch, logs):\n",
    "    if epoch % 100 == 0:\n",
    "        print(\"Epoch {}: Cost: {:.4f}\".format(epoch, logs[\"loss\"]))\n",
    "        \n",
    "\n",
    "model = Sequential([\n",
    "    Dense(units=4, activation=\"relu\"),\n",
    "    Dense(units=5, activation=\"relu\"),\n",
    "    Dense(units=5, activation=\"relu\"),\n",
    "    Dense(units=1, activation=\"linear\")\n",
    "])\n",
    "\n",
    "model.compile(optimizer=Adam(learning_rate=1e-2), loss=MeanSquaredError())\n",
    "\n",
    "print_cost_callback = LambdaCallback(on_epoch_end=print_cost)\n",
    "\n",
    "model.fit(X, Y, epochs=3000, verbose=0, callbacks=[print_cost_callback])\n"
   ]
  },
  {
   "cell_type": "code",
   "execution_count": 32,
   "id": "55e877e1",
   "metadata": {},
   "outputs": [
    {
     "name": "stdout",
     "output_type": "stream",
     "text": [
      "[array([[ 1.12645626e-01, -6.88382268e-01, -8.38078380e-01,\n",
      "        -7.70414830e-04],\n",
      "       [-8.30423260e+00,  2.01053441e-01, -1.85999870e-01,\n",
      "         7.03159761e+00],\n",
      "       [-1.71599674e+01, -4.48221147e-01, -4.01478350e-01,\n",
      "         1.73080082e+01],\n",
      "       [-5.43166220e-01,  7.76636779e-01, -8.25375319e-02,\n",
      "         1.33946821e-01]], dtype=float32), array([ 15.575144,   0.      ,   0.      , -16.769892], dtype=float32), array([[-0.03980999,  0.6210434 , -0.32219124, -0.6721661 ,  0.27146584],\n",
      "       [-0.2347359 , -0.39472064, -0.24097091,  0.20652926,  0.37573755],\n",
      "       [-0.6017963 ,  0.14220089, -0.5884743 , -0.24713409, -0.33864886],\n",
      "       [-0.21960114, -0.42095712, -0.5388693 ,  0.161758  , -0.5414823 ]],\n",
      "      dtype=float32), array([ 0.29420346, 16.437983  ,  4.973587  ,  0.        , -0.3360558 ],\n",
      "      dtype=float32), array([[-0.18034689, -0.7392713 ,  0.40601483, -0.0547213 , -0.5557957 ],\n",
      "       [ 0.9740198 , -0.44784158,  0.6580812 , -0.3298852 ,  1.0859977 ],\n",
      "       [-0.18337972, -0.17049569, -0.8451857 , -0.24765462,  0.40632033],\n",
      "       [-0.4394657 , -0.21896744, -0.17868394, -0.60021794, -0.7688822 ],\n",
      "       [-0.56238556,  0.19075769,  0.17503442,  0.30196774,  0.00566495]],\n",
      "      dtype=float32), array([16.44779 ,  0.      , 17.856827,  0.      , 16.156271],\n",
      "      dtype=float32), array([[ 1.236546 ],\n",
      "       [ 0.3522861],\n",
      "       [ 1.7723789],\n",
      "       [-0.6403656],\n",
      "       [ 1.3858855]], dtype=float32), array([15.420614], dtype=float32)]\n"
     ]
    }
   ],
   "source": [
    "params = model.get_weights()\n",
    "print(params)"
   ]
  },
  {
   "cell_type": "code",
   "execution_count": 33,
   "id": "46f24a32",
   "metadata": {},
   "outputs": [
    {
     "name": "stdout",
     "output_type": "stream",
     "text": [
      "Model: \"sequential_6\"\n",
      "_________________________________________________________________\n",
      " Layer (type)                Output Shape              Param #   \n",
      "=================================================================\n",
      " dense_24 (Dense)            (None, 4)                 20        \n",
      "                                                                 \n",
      " dense_25 (Dense)            (None, 5)                 25        \n",
      "                                                                 \n",
      " dense_26 (Dense)            (None, 5)                 30        \n",
      "                                                                 \n",
      " dense_27 (Dense)            (None, 1)                 6         \n",
      "                                                                 \n",
      "=================================================================\n",
      "Total params: 81 (324.00 Byte)\n",
      "Trainable params: 81 (324.00 Byte)\n",
      "Non-trainable params: 0 (0.00 Byte)\n",
      "_________________________________________________________________\n",
      "None\n"
     ]
    }
   ],
   "source": [
    "summ = model.summary()\n",
    "print(summ)"
   ]
  },
  {
   "cell_type": "code",
   "execution_count": 40,
   "id": "bf1d8c40",
   "metadata": {},
   "outputs": [
    {
     "name": "stdout",
     "output_type": "stream",
     "text": [
      "      Unnamed: 0     height     weight  bark_days  ear_head_ratio  breed\n",
      "0           2836  39.697810  31.740980        9.0        0.193120      2\n",
      "1           1002  36.710641  21.140427       26.0        0.163527      0\n",
      "2           1075  34.726930  19.817954       24.0        0.386113      0\n",
      "3           1583  32.324884  30.812210       18.0        0.463242      1\n",
      "4            248  37.691499  21.794333       28.0        0.118190      0\n",
      "...          ...        ...        ...        ...             ...    ...\n",
      "3445        1571  25.816115  14.540287        9.0        0.205467      1\n",
      "3446         914  35.196253  20.130835       24.0        0.323976      0\n",
      "3447         146  35.417276  20.278184       25.0        0.295218      0\n",
      "3448        3156  37.132770  29.542374        7.0        0.141267      2\n",
      "3449        2198  33.294319  33.235797       19.0        0.485071      1\n",
      "\n",
      "[3450 rows x 6 columns]\n"
     ]
    }
   ],
   "source": [
    "path1 = \"/home/sam/Documents/projects/machine_learning/data/dog_data1.csv\"\n",
    "with open(path1, \"r\") as file:\n",
    "    data1 = pd.read_csv(file)\n",
    "print(data1)"
   ]
  },
  {
   "cell_type": "code",
   "execution_count": 41,
   "id": "e22b2958",
   "metadata": {},
   "outputs": [
    {
     "name": "stdout",
     "output_type": "stream",
     "text": [
      "Index(['Unnamed: 0', 'height', 'weight', 'bark_days', 'ear_head_ratio',\n",
      "       'breed'],\n",
      "      dtype='object')\n"
     ]
    }
   ],
   "source": [
    "print(data1.columns)"
   ]
  },
  {
   "cell_type": "code",
   "execution_count": 42,
   "id": "3689af6e",
   "metadata": {},
   "outputs": [
    {
     "name": "stdout",
     "output_type": "stream",
     "text": [
      "(3450, 4)\n",
      "(3450, 1)\n"
     ]
    }
   ],
   "source": [
    "X = np.array(data1[['height', 'weight', 'bark_days', 'ear_head_ratio']])\n",
    "Y = np.array(data1[\"breed\"]).reshape((3450, 1))\n",
    "\n",
    "norm = MinMaxScaler()\n",
    "X = norm.fit_transform(X)\n",
    "\n",
    "print(X.shape)\n",
    "print(Y.shape)"
   ]
  },
  {
   "cell_type": "code",
   "execution_count": 53,
   "id": "870433a2",
   "metadata": {},
   "outputs": [
    {
     "name": "stdout",
     "output_type": "stream",
     "text": [
      "(2800, 4)\n",
      "(200, 4)\n",
      "(450, 4)\n",
      "(2800, 1)\n",
      "(200, 1)\n",
      "(450, 1)\n"
     ]
    }
   ],
   "source": [
    "X_train = X[:2800, :]\n",
    "X_val = X[2800:3000, :]\n",
    "X_test = X[3000: , :]\n",
    "Y_train = Y[:2800]\n",
    "Y_val = Y[2800:3000]\n",
    "Y_test = Y[3000:]\n",
    "\n",
    "print(X_train.shape)\n",
    "print(X_val.shape)\n",
    "print(X_test.shape)\n",
    "print(Y_train.shape)\n",
    "print(Y_val.shape)\n",
    "print(Y_test.shape)"
   ]
  },
  {
   "cell_type": "code",
   "execution_count": 44,
   "id": "6fda686d",
   "metadata": {},
   "outputs": [
    {
     "name": "stdout",
     "output_type": "stream",
     "text": [
      "[2 0 1]\n"
     ]
    }
   ],
   "source": [
    "print(data1[\"breed\"].unique())"
   ]
  },
  {
   "cell_type": "code",
   "execution_count": 45,
   "id": "d87c4f7e",
   "metadata": {},
   "outputs": [
    {
     "name": "stdout",
     "output_type": "stream",
     "text": [
      "Epoch 0: Cost: 0.9296\n",
      "Epoch 10: Cost: 0.3359\n",
      "Epoch 20: Cost: 0.1768\n",
      "Epoch 30: Cost: 0.1078\n",
      "Epoch 40: Cost: 0.0695\n",
      "Epoch 50: Cost: 0.0174\n",
      "Epoch 60: Cost: 0.0082\n",
      "Epoch 70: Cost: 0.0047\n",
      "Epoch 80: Cost: 0.0029\n",
      "Epoch 90: Cost: 0.0018\n",
      "Epoch 100: Cost: 0.0012\n",
      "Epoch 110: Cost: 0.0008\n",
      "Epoch 120: Cost: 0.0005\n",
      "Epoch 130: Cost: 0.0004\n",
      "Epoch 140: Cost: 0.0002\n",
      "Epoch 150: Cost: 0.0002\n",
      "Epoch 160: Cost: 0.0001\n",
      "Epoch 170: Cost: 0.0001\n",
      "Epoch 180: Cost: 0.0001\n",
      "Epoch 190: Cost: 0.0000\n"
     ]
    },
    {
     "data": {
      "text/plain": [
       "<keras.src.callbacks.History at 0x7fd3d57cd9a0>"
      ]
     },
     "execution_count": 45,
     "metadata": {},
     "output_type": "execute_result"
    }
   ],
   "source": [
    "def print_cost(epoch, logs):\n",
    "    if epoch % 10 == 0:\n",
    "        print(\"Epoch {}: Cost: {:.4f}\".format(epoch, logs[\"loss\"]))\n",
    "        \n",
    "        \n",
    "model1 = Sequential([\n",
    "    Dense(units=4, activation=\"relu\"),\n",
    "    Dense(units=6, activation=\"relu\"),\n",
    "    Dense(units=6, activation=\"relu\"),\n",
    "    Dense(units=3, activation=\"relu\"),\n",
    "    Dense(units=2, activation=\"relu\"),\n",
    "    Dense(units=3, activation=\"softmax\") \n",
    "])\n",
    "\n",
    "model1.compile(optimizer=Adam(learning_rate=0.001),\n",
    "               loss=SparseCategoricalCrossentropy())\n",
    "\n",
    "print_cost_callback = LambdaCallback(on_epoch_end=print_cost)\n",
    "\n",
    "model1.fit(X_train, Y_train, epochs=200, verbose=0, callbacks=[print_cost_callback])"
   ]
  },
  {
   "cell_type": "code",
   "execution_count": 46,
   "id": "b2994c2f",
   "metadata": {},
   "outputs": [
    {
     "name": "stdout",
     "output_type": "stream",
     "text": [
      "7/7 [==============================] - 0s 2ms/step\n",
      "88/88 [==============================] - 0s 2ms/step\n",
      "[[1.0000000e+00 1.3213920e-09 0.0000000e+00]\n",
      " [1.0000000e+00 1.5789501e-08 0.0000000e+00]\n",
      " [1.0000000e+00 2.0887061e-09 0.0000000e+00]\n",
      " [1.0000000e+00 1.2524537e-09 0.0000000e+00]\n",
      " [1.2694323e-10 1.0000000e+00 1.9653876e-23]\n",
      " [1.0000000e+00 2.0518103e-09 0.0000000e+00]\n",
      " [5.9186156e-08 1.0000000e+00 8.6126829e-16]\n",
      " [1.0000000e+00 2.0501920e-08 0.0000000e+00]\n",
      " [5.9575662e-08 1.0000000e+00 1.2289798e-15]\n",
      " [2.6735233e-10 1.0000000e+00 1.2656000e-22]\n",
      " [1.0000000e+00 1.4307944e-09 0.0000000e+00]\n",
      " [1.0000000e+00 8.1172313e-10 0.0000000e+00]\n",
      " [3.7915041e-05 4.9984756e-05 9.9991214e-01]\n",
      " [2.6250527e-08 1.0000000e+00 7.5503504e-17]\n",
      " [3.7915041e-05 4.9984756e-05 9.9991214e-01]\n",
      " [3.7915041e-05 4.9984756e-05 9.9991214e-01]\n",
      " [1.0461318e-07 9.9999988e-01 8.3684263e-15]\n",
      " [1.0000000e+00 9.8834141e-10 0.0000000e+00]\n",
      " [1.0000000e+00 8.6393346e-09 0.0000000e+00]\n",
      " [1.0000000e+00 1.2698786e-09 0.0000000e+00]]\n"
     ]
    }
   ],
   "source": [
    "p_val = model1.predict(X_val)\n",
    "p_train = model1.predict(X_train)\n",
    "print(p_val[:20])"
   ]
  },
  {
   "cell_type": "code",
   "execution_count": 47,
   "id": "5200d79a",
   "metadata": {},
   "outputs": [
    {
     "name": "stdout",
     "output_type": "stream",
     "text": [
      "[0 0 0 0 1 0 1 0 1 1 0 0 2 1 2 2 1 0 0 0 0 0 0 0 2 0 0 2 0 2 1 2 0 2 0 1 1\n",
      " 1 2 0 1 1 2 1 1 0 1 0 1 1 1 0 2 0 0 1 2 0 1 2 1 2 1 1 2 1 0 2 0 1 0 0 2 2\n",
      " 0 2 0 1 2 2 1 0 0 0 1 2 1 2 0 2 2 1 0 0 2 0 1 1 0 0 2 0 0 0 1 1 0 1 0 2 0\n",
      " 1 2 1 1 1 1 1 2 0 0 1 2 1 0 0 1 1 1 1 0 0 0 1 0 1 0 2 1 1 1 1 0 0 1 1 2 2\n",
      " 1 1 1 1 0 0 1 0 2 2 2 1 0 1 1 2 0 1 2 0 2 1 1 0 0 1 1 0 1 1 2 0 2 0 1 1 0\n",
      " 2 0 0 0 0 0 1 1 0 0 2 0 1 0 2]\n"
     ]
    }
   ],
   "source": [
    "c_val = np.argmax(p_val, axis=1)\n",
    "c_train = np.argmax(p_train, axis=1)\n",
    "\n",
    "print(c_val)"
   ]
  },
  {
   "cell_type": "code",
   "execution_count": 56,
   "id": "9c35a1aa",
   "metadata": {},
   "outputs": [],
   "source": [
    "Y_val = Y_val.reshape((1, 200)).flatten()\n",
    "Y_train = Y_train.reshape((1, 2800)).flatten()\n"
   ]
  },
  {
   "cell_type": "code",
   "execution_count": 57,
   "id": "33084b44",
   "metadata": {},
   "outputs": [
    {
     "name": "stdout",
     "output_type": "stream",
     "text": [
      "1.0\n",
      "1.0\n"
     ]
    }
   ],
   "source": [
    "accuracy = np.sum([1 if i==j else 0 for i,j in zip(c_val, Y_val)])/len(c_val)\n",
    "accuracy1 = np.sum([1 if i==j else 0 for i,j in zip(c_train, Y_train)])/len(c_train)\n",
    "print(accuracy)\n",
    "print(accuracy1)"
   ]
  },
  {
   "cell_type": "code",
   "execution_count": 58,
   "id": "657c519a",
   "metadata": {},
   "outputs": [
    {
     "name": "stdout",
     "output_type": "stream",
     "text": [
      "15/15 [==============================] - 0s 2ms/step\n",
      "1.0\n"
     ]
    }
   ],
   "source": [
    "Y_test = Y_test.reshape((1, 450)).flatten()\n",
    "p_test = model1.predict(X_test)\n",
    "c_test = np.argmax(p_test, axis=1)\n",
    "accuracy2 = np.sum([1 if i==j else 0 for i,j in zip(c_test, Y_test)])/len(c_test)\n",
    "print(accuracy2)"
   ]
  }
 ],
 "metadata": {
  "kernelspec": {
   "display_name": "Python 3 (ipykernel)",
   "language": "python",
   "name": "python3"
  },
  "language_info": {
   "codemirror_mode": {
    "name": "ipython",
    "version": 3
   },
   "file_extension": ".py",
   "mimetype": "text/x-python",
   "name": "python",
   "nbconvert_exporter": "python",
   "pygments_lexer": "ipython3",
   "version": "3.9.18"
  }
 },
 "nbformat": 4,
 "nbformat_minor": 5
}
