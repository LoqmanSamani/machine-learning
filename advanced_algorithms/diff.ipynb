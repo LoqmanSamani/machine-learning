{
 "cells": [
  {
   "cell_type": "markdown",
   "id": "e27db473",
   "metadata": {},
   "source": [
    "<p>Derivative using SymPy</p>"
   ]
  },
  {
   "cell_type": "code",
   "execution_count": 11,
   "id": "05981510",
   "metadata": {},
   "outputs": [],
   "source": [
    "import sympy\n",
    "import numpy as np"
   ]
  },
  {
   "cell_type": "code",
   "execution_count": 4,
   "id": "cfa809d1",
   "metadata": {},
   "outputs": [],
   "source": [
    "X, n = sympy.symbols(\"X, n\")"
   ]
  },
  {
   "cell_type": "code",
   "execution_count": 5,
   "id": "76436ff0",
   "metadata": {},
   "outputs": [
    {
     "data": {
      "text/latex": [
       "$\\displaystyle X$"
      ],
      "text/plain": [
       "X"
      ]
     },
     "execution_count": 5,
     "metadata": {},
     "output_type": "execute_result"
    }
   ],
   "source": [
    "X"
   ]
  },
  {
   "cell_type": "code",
   "execution_count": 6,
   "id": "647ef9ee",
   "metadata": {},
   "outputs": [
    {
     "data": {
      "text/latex": [
       "$\\displaystyle n$"
      ],
      "text/plain": [
       "n"
      ]
     },
     "execution_count": 6,
     "metadata": {},
     "output_type": "execute_result"
    }
   ],
   "source": [
    "n"
   ]
  },
  {
   "cell_type": "code",
   "execution_count": 14,
   "id": "6a4a2c67",
   "metadata": {},
   "outputs": [
    {
     "data": {
      "text/latex": [
       "$\\displaystyle 1$"
      ],
      "text/plain": [
       "1"
      ]
     },
     "execution_count": 14,
     "metadata": {},
     "output_type": "execute_result"
    }
   ],
   "source": [
    "dX = sympy.diff(X)\n",
    "dX"
   ]
  },
  {
   "cell_type": "code",
   "execution_count": 10,
   "id": "6d7ab486",
   "metadata": {},
   "outputs": [
    {
     "data": {
      "text/latex": [
       "$\\displaystyle 2 X$"
      ],
      "text/plain": [
       "2*X"
      ]
     },
     "execution_count": 10,
     "metadata": {},
     "output_type": "execute_result"
    }
   ],
   "source": [
    "dX_2 = sympy.diff(X**2)\n",
    "dX_2"
   ]
  },
  {
   "cell_type": "code",
   "execution_count": 15,
   "id": "c02a841a",
   "metadata": {},
   "outputs": [
    {
     "data": {
      "text/latex": [
       "$\\displaystyle \\frac{1}{2 \\sqrt{X}}$"
      ],
      "text/plain": [
       "1/(2*sqrt(X))"
      ]
     },
     "execution_count": 15,
     "metadata": {},
     "output_type": "execute_result"
    }
   ],
   "source": [
    "dX_root = sympy.diff(sympy.sqrt(X), X)\n",
    "dX_root"
   ]
  },
  {
   "cell_type": "code",
   "execution_count": 20,
   "id": "8b6d3d92",
   "metadata": {},
   "outputs": [
    {
     "data": {
      "text/latex": [
       "$\\displaystyle e^{X}$"
      ],
      "text/plain": [
       "exp(X)"
      ]
     },
     "execution_count": 20,
     "metadata": {},
     "output_type": "execute_result"
    }
   ],
   "source": [
    "de_dX = sympy.diff(sympy.exp(X), X)\n",
    "de_dX"
   ]
  },
  {
   "cell_type": "code",
   "execution_count": 21,
   "id": "41c9b9d0",
   "metadata": {},
   "outputs": [
    {
     "data": {
      "text/latex": [
       "$\\displaystyle 6^{X} \\log{\\left(6 \\right)}$"
      ],
      "text/plain": [
       "6**X*log(6)"
      ]
     },
     "execution_count": 21,
     "metadata": {},
     "output_type": "execute_result"
    }
   ],
   "source": [
    "dn_dX = sympy.diff(6**X)\n",
    "dn_dX"
   ]
  },
  {
   "cell_type": "code",
   "execution_count": 23,
   "id": "9721923a",
   "metadata": {},
   "outputs": [
    {
     "data": {
      "text/latex": [
       "$\\displaystyle \\cos{\\left(X \\right)}$"
      ],
      "text/plain": [
       "cos(X)"
      ]
     },
     "execution_count": 23,
     "metadata": {},
     "output_type": "execute_result"
    }
   ],
   "source": [
    "dsin_X = sympy.diff(sympy.sin(X), X)\n",
    "dsin_X"
   ]
  },
  {
   "cell_type": "code",
   "execution_count": 24,
   "id": "e922cb3f",
   "metadata": {},
   "outputs": [
    {
     "data": {
      "text/latex": [
       "$\\displaystyle - \\sin{\\left(X \\right)}$"
      ],
      "text/plain": [
       "-sin(X)"
      ]
     },
     "execution_count": 24,
     "metadata": {},
     "output_type": "execute_result"
    }
   ],
   "source": [
    "dcos_X = sympy.diff(sympy.cos(X), X)\n",
    "dcos_X"
   ]
  },
  {
   "cell_type": "code",
   "execution_count": 25,
   "id": "a95e2235",
   "metadata": {},
   "outputs": [
    {
     "data": {
      "text/latex": [
       "$\\displaystyle \\tan^{2}{\\left(X \\right)} + 1$"
      ],
      "text/plain": [
       "tan(X)**2 + 1"
      ]
     },
     "execution_count": 25,
     "metadata": {},
     "output_type": "execute_result"
    }
   ],
   "source": [
    "dtan_X = sympy.diff(sympy.tan(X), X)\n",
    "dtan_X"
   ]
  },
  {
   "cell_type": "code",
   "execution_count": 26,
   "id": "070a7460",
   "metadata": {},
   "outputs": [
    {
     "data": {
      "text/latex": [
       "$\\displaystyle - \\cot^{2}{\\left(X \\right)} - 1$"
      ],
      "text/plain": [
       "-cot(X)**2 - 1"
      ]
     },
     "execution_count": 26,
     "metadata": {},
     "output_type": "execute_result"
    }
   ],
   "source": [
    "dcot_X = sympy.diff(sympy.cot(X), X)\n",
    "dcot_X"
   ]
  },
  {
   "cell_type": "code",
   "execution_count": 27,
   "id": "299a3c03",
   "metadata": {},
   "outputs": [
    {
     "data": {
      "text/latex": [
       "$\\displaystyle \\tan{\\left(X \\right)} \\sec{\\left(X \\right)}$"
      ],
      "text/plain": [
       "tan(X)*sec(X)"
      ]
     },
     "execution_count": 27,
     "metadata": {},
     "output_type": "execute_result"
    }
   ],
   "source": [
    "dsec_X = sympy.diff(sympy.sec(X), X)\n",
    "dsec_X"
   ]
  },
  {
   "cell_type": "code",
   "execution_count": 29,
   "id": "81b75e23",
   "metadata": {},
   "outputs": [
    {
     "data": {
      "text/latex": [
       "$\\displaystyle - \\cot{\\left(X \\right)} \\csc{\\left(X \\right)}$"
      ],
      "text/plain": [
       "-cot(X)*csc(X)"
      ]
     },
     "execution_count": 29,
     "metadata": {},
     "output_type": "execute_result"
    }
   ],
   "source": [
    "dcsc_X = sympy.diff(sympy.csc(X), X)\n",
    "dcsc_X"
   ]
  },
  {
   "cell_type": "code",
   "execution_count": 31,
   "id": "dc07d8be",
   "metadata": {},
   "outputs": [
    {
     "data": {
      "text/latex": [
       "$\\displaystyle \\frac{1}{X}$"
      ],
      "text/plain": [
       "1/X"
      ]
     },
     "execution_count": 31,
     "metadata": {},
     "output_type": "execute_result"
    }
   ],
   "source": [
    "d_ln_X = sympy.diff(sympy.log(X), X)\n",
    "d_ln_X"
   ]
  },
  {
   "cell_type": "code",
   "execution_count": 32,
   "id": "7f030602",
   "metadata": {},
   "outputs": [
    {
     "data": {
      "text/latex": [
       "$\\displaystyle \\left(X + \\log{\\left(e^{X} \\right)}\\right) \\left(e^{X}\\right)^{X}$"
      ],
      "text/plain": [
       "(X + log(exp(X)))*exp(X)**X"
      ]
     },
     "execution_count": 32,
     "metadata": {},
     "output_type": "execute_result"
    }
   ],
   "source": [
    "d_eX_X = sympy.diff(sympy.exp(X)**X, X)\n",
    "d_eX_X"
   ]
  },
  {
   "cell_type": "code",
   "execution_count": 33,
   "id": "48d754cd",
   "metadata": {},
   "outputs": [
    {
     "data": {
      "text/latex": [
       "$\\displaystyle g(X)$"
      ],
      "text/plain": [
       "g(X)"
      ]
     },
     "execution_count": 33,
     "metadata": {},
     "output_type": "execute_result"
    }
   ],
   "source": [
    "gX = sympy.symbols(\"g(X)\")\n",
    "gX"
   ]
  },
  {
   "cell_type": "code",
   "execution_count": 36,
   "id": "910c6158",
   "metadata": {},
   "outputs": [
    {
     "data": {
      "text/latex": [
       "$\\displaystyle 0$"
      ],
      "text/plain": [
       "0"
      ]
     },
     "execution_count": 36,
     "metadata": {},
     "output_type": "execute_result"
    }
   ],
   "source": [
    "d_gX = sympy.diff(sympy.log(gX), X)\n",
    "d_gX"
   ]
  }
 ],
 "metadata": {
  "kernelspec": {
   "display_name": "Python 3 (ipykernel)",
   "language": "python",
   "name": "python3"
  },
  "language_info": {
   "codemirror_mode": {
    "name": "ipython",
    "version": 3
   },
   "file_extension": ".py",
   "mimetype": "text/x-python",
   "name": "python",
   "nbconvert_exporter": "python",
   "pygments_lexer": "ipython3",
   "version": "3.9.18"
  }
 },
 "nbformat": 4,
 "nbformat_minor": 5
}
