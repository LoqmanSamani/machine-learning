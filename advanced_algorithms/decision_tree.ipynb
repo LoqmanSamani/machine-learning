{
 "cells": [
  {
   "cell_type": "code",
   "execution_count": 2,
   "id": "536a69ee",
   "metadata": {},
   "outputs": [],
   "source": [
    "import numpy as np\n",
    "import pandas as pd\n",
    "import matplotlib.pyplot as plt"
   ]
  },
  {
   "cell_type": "code",
   "execution_count": 12,
   "id": "9a040df0",
   "metadata": {},
   "outputs": [
    {
     "name": "stderr",
     "output_type": "stream",
     "text": [
      "/tmp/ipykernel_48068/360642902.py:5: RuntimeWarning: divide by zero encountered in log2\n",
      "  H_p1 = (- p1 * np.log2(p1)) - ((1-p1)*np.log2(1-p1))\n",
      "/tmp/ipykernel_48068/360642902.py:5: RuntimeWarning: invalid value encountered in multiply\n",
      "  H_p1 = (- p1 * np.log2(p1)) - ((1-p1)*np.log2(1-p1))\n"
     ]
    },
    {
     "data": {
      "image/png": "[encoded data removed]",
      "text/plain": [
       "<Figure size 800x600 with 1 Axes>"
      ]
     },
     "metadata": {},
     "output_type": "display_data"
    }
   ],
   "source": [
    "p1 = np.linspace(0, 1, 1000)\n",
    "\n",
    "def compute_entropy(p1):\n",
    "    \n",
    "    H_p1 = (- p1 * np.log2(p1)) - ((1-p1)*np.log2(1-p1))\n",
    "    for i in range(len(p1)):\n",
    "        \n",
    "        if p1[i] == 0 or p1[i] == 1:\n",
    "            H_p1[i] = 0 \n",
    "            \n",
    "    return H_p1\n",
    "\n",
    "H_p1 = compute_entropy(p1)\n",
    "\n",
    "plt.figure(figsize=(8, 6))\n",
    "plt.plot(p1, H_p1, color=\"red\", linewidth=4)\n",
    "plt.xlabel(\"P1\")\n",
    "plt.ylabel(\"H(P1)\")\n",
    "plt.title(\"Entropy Function\")\n",
    "plt.show()"
   ]
  },
  {
   "cell_type": "code",
   "execution_count": 8,
   "id": "c311da7d",
   "metadata": {},
   "outputs": [
    {
     "data": {
      "text/plain": [
       "'\\nWe will use one-hot encoding to encode the categorical features. They will be as follows:\\n\\n    Ear Shape: Pointy = 1, Floppy = 0\\n    Face Shape: Round = 1, Not Round = 0\\n    Whiskers: Present = 1, Absent = 0\\n\\nTherefore, we have two sets:\\n\\n    X_train: for each example, contains 3 features:\\n\\n          - Ear Shape (1 if pointy, 0 otherwise)\\n          - Face Shape (1 if round, 0 otherwise)\\n          - Whiskers (1 if present, 0 otherwise)\\n\\n    y_train: whether the animal is a cat\\n\\n          - 1 if the animal is a cat\\n          - 0 otherwise\\n'"
      ]
     },
     "execution_count": 8,
     "metadata": {},
     "output_type": "execute_result"
    }
   ],
   "source": [
    "\"\"\"\n",
    "We will use one-hot encoding to encode the categorical features. They will be as follows:\n",
    "\n",
    "    Ear Shape: Pointy = 1, Floppy = 0\n",
    "    Face Shape: Round = 1, Not Round = 0\n",
    "    Whiskers: Present = 1, Absent = 0\n",
    "\n",
    "Therefore, we have two sets:\n",
    "\n",
    "    X_train: for each example, contains 3 features:\n",
    "\n",
    "          - Ear Shape (1 if pointy, 0 otherwise)\n",
    "          - Face Shape (1 if round, 0 otherwise)\n",
    "          - Whiskers (1 if present, 0 otherwise)\n",
    "\n",
    "    y_train: whether the animal is a cat\n",
    "\n",
    "          - 1 if the animal is a cat\n",
    "          - 0 otherwise\n",
    "\"\"\""
   ]
  },
  {
   "cell_type": "code",
   "execution_count": 16,
   "id": "71b052ae",
   "metadata": {},
   "outputs": [
    {
     "name": "stdout",
     "output_type": "stream",
     "text": [
      "(10, 3)\n",
      "(10,)\n"
     ]
    }
   ],
   "source": [
    "X_train = np.array([[1, 1, 1],\n",
    "[0, 0, 1],\n",
    " [0, 1, 0],\n",
    " [1, 0, 1],\n",
    " [1, 1, 1],\n",
    " [1, 1, 0],\n",
    " [0, 0, 0],\n",
    " [1, 1, 0],\n",
    " [0, 1, 0],\n",
    " [0, 1, 0]])\n",
    "\n",
    "Y_train = np.array([1, 1, 0, 0, 1, 1, 0, 1, 0, 0])\n",
    "print(X_train.shape)\n",
    "print(Y_train.shape)"
   ]
  },
  {
   "cell_type": "code",
   "execution_count": 15,
   "id": "46495aff",
   "metadata": {},
   "outputs": [
    {
     "name": "stdout",
     "output_type": "stream",
     "text": [
      "[1.]\n"
     ]
    }
   ],
   "source": [
    "\"\"\"\n",
    "On each node, we compute the information gain for each feature, \n",
    "then split the node on the feature with the higher information gain, \n",
    "by comparing the entropy of the node with the weighted entropy \n",
    "in the two splitted nodes. \n",
    "\"\"\"\n",
    "print(compute_entropy(np.array([0.5])))"
   ]
  },
  {
   "cell_type": "code",
   "execution_count": 23,
   "id": "d7ad907e",
   "metadata": {},
   "outputs": [],
   "source": [
    "def entropy(p):\n",
    "    if p == 0 or p == 1:\n",
    "        return 0\n",
    "    else:\n",
    "        return -p * np.log2(p) - (1- p)*np.log2(1 - p)"
   ]
  },
  {
   "cell_type": "code",
   "execution_count": 36,
   "id": "9970ee99",
   "metadata": {},
   "outputs": [
    {
     "name": "stdout",
     "output_type": "stream",
     "text": [
      "[0 3 4 5 7]\n",
      "[1 2 6 8 9]\n"
     ]
    }
   ],
   "source": [
    "def split_indices(X, index):\n",
    "    \n",
    "    left_indx = []\n",
    "    right_indx = []\n",
    "    \n",
    "    for i, x in enumerate(X):\n",
    "        if x[index] == 1:\n",
    "            left_indx.append(i)\n",
    "        else:\n",
    "            right_indx.append(i)\n",
    "    return left_indx, right_indx\n",
    "\n",
    "# optimized version\n",
    "def split_indices1(X, index):\n",
    "    \n",
    "    left_indx = np.where(X[:, index] == 1)[0]\n",
    "    right_indx = np.where(X[:, index] != 1)[0]\n",
    "    \n",
    "    return left_indx, right_indx\n",
    "\n",
    "\n",
    "left_indx, right_indx = split_indices(X_train, 0)\n",
    "left_indx1, right_indx1 = split_indices1(X_train, 0)  \n",
    "\n",
    "print(left_indx1)\n",
    "print(right_indx1)"
   ]
  },
  {
   "cell_type": "code",
   "execution_count": 32,
   "id": "8dabb485",
   "metadata": {},
   "outputs": [
    {
     "name": "stdout",
     "output_type": "stream",
     "text": [
      "0.7219280948873623\n",
      "0.7219280948873623\n"
     ]
    }
   ],
   "source": [
    "def weighted_entropy(X, Y, left_indx, right_indx):\n",
    "    \n",
    "    W_left = len(left_indx) / len(X)\n",
    "    W_right = len(right_indx) / len(X)\n",
    "          \n",
    "    P1_left = np.sum(Y[left_indx]) / len(left_indx)\n",
    "    P1_right = np.sum(Y[right_indx]) / len(right_indx)\n",
    "    \n",
    "    weighted_entropy = (W_left * entropy(P1_left)) + (W_right * entropy(P1_right))\n",
    "    \n",
    "    return weighted_entropy\n",
    "\n",
    "print(weighted_entropy(X_train, Y_train, left_indx, right_indx))\n",
    "print(weighted_entropy(X_train, Y_train, left_indx1, right_indx1))           "
   ]
  },
  {
   "cell_type": "code",
   "execution_count": 34,
   "id": "a71adfb3",
   "metadata": {},
   "outputs": [
    {
     "name": "stdout",
     "output_type": "stream",
     "text": [
      "0.2780719051126377\n"
     ]
    }
   ],
   "source": [
    "def information_gain(X, Y, left_indx, right_indx):\n",
    "    \n",
    "    P_node = np.sum(Y) / len(Y)\n",
    "    H_node = entropy(P_node)\n",
    "    W_entropy = weighted_entropy(X, Y, left_indx, right_indx)\n",
    "    \n",
    "    info_gain = H_node - W_entropy\n",
    "    \n",
    "    return info_gain  \n",
    "\n",
    "print(information_gain(X_train, Y_train, left_indx, right_indx))"
   ]
  },
  {
   "cell_type": "code",
   "execution_count": 37,
   "id": "c331d274",
   "metadata": {},
   "outputs": [
    {
     "name": "stdout",
     "output_type": "stream",
     "text": [
      "Ear Shape: 0.2780719051126377\n",
      "Face Shape: 0.034851554559677034\n",
      "Whiskers: 0.12451124978365313\n"
     ]
    }
   ],
   "source": [
    "for i, feature_name in enumerate(['Ear Shape', 'Face Shape', 'Whiskers']):\n",
    "    left_indx, right_indx = split_indices(X_train, i)\n",
    "    info_gain = information_gain(X_train, Y_train, left_indx, right_indx)\n",
    "    print(f\"{feature_name}: {info_gain}\")"
   ]
  },
  {
   "cell_type": "markdown",
   "id": "63491497",
   "metadata": {},
   "source": [
    "<h3>Decision Tree Algorithm</h3>"
   ]
  },
  {
   "cell_type": "code",
   "execution_count": 38,
   "id": "76dd9f23",
   "metadata": {},
   "outputs": [],
   "source": [
    "\n",
    "def compute_entropy(y):\n",
    "\n",
    "    entropy = 0\n",
    "    \n",
    "    if len(y) == 0:\n",
    "        return 0\n",
    "    entropy = sum(y[y==1])/len(y)\n",
    "    if entropy == 0 or entropy == 1:\n",
    "        return 0\n",
    "    else:\n",
    "        return -entropy*np.log2(entropy) - (1-entropy)*np.log2(1-entropy)\n",
    "     \n",
    "\n",
    "def split_dataset(X, node_indices, feature):\n",
    "\n",
    "    left_indices = []\n",
    "    right_indices = []\n",
    "\n",
    "    for i in node_indices:\n",
    "        if X[i][feature] == 1:\n",
    "            left_indices.append(i)\n",
    "        else:\n",
    "            right_indices.append(i)\n",
    "        \n",
    "    return left_indices, right_indices   \n",
    "    \n",
    "    \n",
    "\n",
    "def compute_information_gain(X, y, node_indices, feature):\n",
    "    \n",
    "    left_indices, right_indices = split_dataset(X, node_indices, feature)\n",
    "    \n",
    "    X_node, y_node = X[node_indices], y[node_indices]\n",
    "    X_left, y_left = X[left_indices], y[left_indices]\n",
    "    X_right, y_right = X[right_indices], y[right_indices]\n",
    "    \n",
    "    information_gain = 0\n",
    "    \n",
    "    node_entropy = compute_entropy(y_node)\n",
    "    left_entropy = compute_entropy(y_left)\n",
    "    right_entropy = compute_entropy(y_right)\n",
    "    w_left = len(X_left) / len(X_node)\n",
    "    w_right = len(X_right) / len(X_node)\n",
    "    weighted_entropy = w_left * left_entropy + w_right * right_entropy\n",
    "    information_gain = node_entropy - weighted_entropy\n",
    "    \n",
    "    return information_gain\n",
    "\n",
    "def get_best_split(X, y, node_indices):   \n",
    "    num_features = X.shape[1]\n",
    "    \n",
    "    best_feature = -1\n",
    "\n",
    "    max_info_gain = 0\n",
    "    for feature in range(num_features):\n",
    "        info_gain = compute_information_gain(X, y, node_indices, feature)\n",
    "        if info_gain > max_info_gain:\n",
    "            max_info_gain = info_gain\n",
    "            best_feature = feature\n",
    "        \n",
    "   \n",
    "    return best_feature\n",
    "\n",
    "\n",
    "def build_tree_recursive(X, y, node_indices, branch_name, max_depth, current_depth, tree):\n",
    "\n",
    "    if current_depth == max_depth:\n",
    "        formatting = \" \"*current_depth + \"-\"*current_depth\n",
    "        print(formatting, \"%s leaf node with indices\" % branch_name, node_indices)\n",
    "        return\n",
    "   \n",
    "\n",
    "    best_feature = get_best_split(X, y, node_indices) \n",
    "    \n",
    "    formatting = \"-\"*current_depth\n",
    "    print(\"%s Depth %d, %s: Split on feature: %d\" % (formatting, current_depth, branch_name, best_feature))\n",
    "    \n",
    "\n",
    "    left_indices, right_indices = split_dataset(X, node_indices, best_feature)\n",
    "    tree.append((left_indices, right_indices, best_feature))\n",
    "    \n",
    "    build_tree_recursive(X, y, left_indices, \"Left\", max_depth, current_depth+1, tree)\n",
    "    build_tree_recursive(X, y, right_indices, \"Right\", max_depth, current_depth+1, tree)\n",
    "    return tree"
   ]
  },
  {
   "cell_type": "code",
   "execution_count": 39,
   "id": "597756f6",
   "metadata": {},
   "outputs": [
    {
     "name": "stdout",
     "output_type": "stream",
     "text": [
      " Depth 0, Root: Split on feature: 0\n",
      "- Depth 1, Left: Split on feature: 1\n",
      "  -- Left leaf node with indices [0, 4, 5, 7]\n",
      "  -- Right leaf node with indices [3]\n",
      "- Depth 1, Right: Split on feature: 2\n",
      "  -- Left leaf node with indices [1]\n",
      "  -- Right leaf node with indices [2, 6, 8, 9]\n",
      "[([0, 3, 4, 5, 7], [1, 2, 6, 8, 9], 0), ([0, 4, 5, 7], [3], 1), ([1], [2, 6, 8, 9], 2)]\n"
     ]
    }
   ],
   "source": [
    "tree = []\n",
    "build_tree_recursive(\n",
    "    X_train, Y_train, \n",
    "    [0,1,2,3,4,5,6,7,8,9], \n",
    "    \"Root\", max_depth=2, current_depth=0, \n",
    "    tree = tree)\n",
    "\n",
    "print(tree)\n"
   ]
  }
 ],
 "metadata": {
  "kernelspec": {
   "display_name": "newenv",
   "language": "python",
   "name": "newenv"
  },
  "language_info": {
   "codemirror_mode": {
    "name": "ipython",
    "version": 3
   },
   "file_extension": ".py",
   "mimetype": "text/x-python",
   "name": "python",
   "nbconvert_exporter": "python",
   "pygments_lexer": "ipython3",
   "version": "3.11.2"
  }
 },
 "nbformat": 4,
 "nbformat_minor": 5
}
