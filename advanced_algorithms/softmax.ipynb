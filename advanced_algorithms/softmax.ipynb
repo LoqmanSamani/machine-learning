{
 "cells": [
  {
   "cell_type": "markdown",
   "id": "b83cbd82",
   "metadata": {},
   "source": [
    "<h4><b>Softmax Activation Function for Regression and multiclass Classification Tasks</b></h4>\n",
    "\n",
    "    A[n] = np.exp(z[n]) / (np.exp(z[1]) + np.exp(z[2]) + ... + np.exp(z[n])) = P(y=n|X)"
   ]
  },
  {
   "cell_type": "code",
   "execution_count": 2,
   "id": "c3343ccf",
   "metadata": {},
   "outputs": [],
   "source": [
    "import numpy as np\n",
    "import matplotlib.pyplot as plt\n",
    "import tensorflow as tf\n",
    "from tensorflow.keras.layers import Dense, LeakyReLU\n",
    "from tensorflow.keras.models import Sequential\n",
    "from tensorflow.keras.activations import sigmoid, relu, linear\n",
    "from tensorflow.keras.losses import SparseCategoricalCrossentropy\n",
    "from sklearn.datasets import make_blobs"
   ]
  },
  {
   "cell_type": "code",
   "execution_count": 3,
   "id": "af3ab152",
   "metadata": {},
   "outputs": [],
   "source": [
    "def soft_max(Z):\n",
    "    eZ = np.exp(Z)\n",
    "    A = eZ / np.sum(eZ)\n",
    "    return A"
   ]
  },
  {
   "cell_type": "code",
   "execution_count": 4,
   "id": "1f6a6f36",
   "metadata": {},
   "outputs": [
    {
     "name": "stdout",
     "output_type": "stream",
     "text": [
      "[[2 3 4 5 6 7 8]\n",
      " [4 5 6 7 8 5 2]]\n",
      "[[0.00077361 0.0021029  0.00571628 0.01553847 0.04223793 0.1148146\n",
      "  0.31209843]\n",
      " [0.00571628 0.01553847 0.04223793 0.1148146  0.31209843 0.01553847\n",
      "  0.00077361]]\n",
      "0.9999999999999998\n"
     ]
    }
   ],
   "source": [
    "z = np.array([[2, 3, 4, 5, 6, 7, 8], [4, 5, 6, 7, 8, 5, 2]])\n",
    "a = soft_max(z)\n",
    "y = np.array([[3, 3, 4, 6, 5, 5, 8], [4, 4, 6, 7, 8, 5, 2]])\n",
    "print(z)\n",
    "print(a)\n",
    "print(np.sum(a)) # sum to 1"
   ]
  },
  {
   "cell_type": "code",
   "execution_count": 5,
   "id": "e8fcb22c",
   "metadata": {},
   "outputs": [
    {
     "data": {
      "image/png": "[encoded data removed]",
      "text/plain": [
       "<Figure size 640x480 with 1 Axes>"
      ]
     },
     "metadata": {},
     "output_type": "display_data"
    }
   ],
   "source": [
    "plt.plot(np.linspace(-10, 10, 50), soft_max(np.linspace(-10, 10, 50)), color=\"red\", linewidth=2.5)\n",
    "plt.title(\"Softmax Function\")\n",
    "plt.show()"
   ]
  },
  {
   "cell_type": "markdown",
   "id": "b675efa5",
   "metadata": {},
   "source": [
    "<p>Categorical Cross Entropy Function (compute the cost in a multiclass classification algorithm)</p>"
   ]
  },
  {
   "cell_type": "code",
   "execution_count": 6,
   "id": "1fb8cf99",
   "metadata": {},
   "outputs": [],
   "source": [
    "def softmax_loss(y_pred, y_true):\n",
    "    \"\"\"\n",
    "    Compute the softmax loss for multiclass classification.\n",
    "\n",
    "    Parameters:\n",
    "    - y_pred: Predicted probabilities for each class (numpy array of shape (N, C))\n",
    "    - y_true: True class labels (numpy array of shape (N,))\n",
    "\n",
    "    Returns:\n",
    "    - loss: Softmax loss\n",
    "    \"\"\"\n",
    "    # Number of samples\n",
    "    N = len(y_true)\n",
    "\n",
    "    # Ensure that y_pred is not too close to 0 or 1 to avoid numerical instability\n",
    "    y_pred = np.clip(y_pred, 1e-15, 1 - 1e-15)\n",
    "\n",
    "    # One-hot encode the true class labels\n",
    "    y_true_one_hot = np.eye(y_pred.shape[1])[y_true]\n",
    "\n",
    "    # Compute the softmax loss\n",
    "    loss = -np.sum(y_true_one_hot * np.log(y_pred)) / N\n",
    "\n",
    "    return loss"
   ]
  },
  {
   "cell_type": "code",
   "execution_count": 7,
   "id": "39ff0147",
   "metadata": {},
   "outputs": [
    {
     "name": "stdout",
     "output_type": "stream",
     "text": [
      "[[ 1.55508243  0.84801682]\n",
      " [-5.33749882  1.03397255]\n",
      " [-4.09353183  0.67843096]\n",
      " [-1.35928349 -1.49568732]\n",
      " [-0.67987836  3.15016353]\n",
      " [ 1.4685845   1.60076541]\n",
      " [-1.06017154 -2.23889878]\n",
      " [-6.05801535  2.46838122]\n",
      " [-1.59902629 -1.70935056]\n",
      " [ 4.27160051 -1.70297395]\n",
      " [-0.1534505  -0.87009366]\n",
      " [ 1.88130159  2.17140809]\n",
      " [-4.77149121  3.93340251]\n",
      " [ 1.17548648  3.36341941]\n",
      " [ 1.86700426  1.28290304]\n",
      " [-5.6272356   1.5400402 ]\n",
      " [-2.32739448 -3.40165959]\n",
      " [ 0.80333605  0.73158863]\n",
      " [ 3.77042178 -3.04486441]\n",
      " [-6.54875994  2.85549542]]\n",
      "[2 0 0 1 2 2 1 0 1 3 1 2 0 2 2 0 1 2 3 0]\n"
     ]
    }
   ],
   "source": [
    "\n",
    "centers = [[-5, 2], [-2, -2], [1, 2], [5, -2]]\n",
    "X_train, y_train = make_blobs(n_samples=2000,\n",
    "                              centers=centers, cluster_std=1.0,random_state=30)\n",
    "\n",
    "print(X_train[:20])\n",
    "print(y_train[:20])"
   ]
  },
  {
   "cell_type": "code",
   "execution_count": null,
   "id": "af2ea059",
   "metadata": {},
   "outputs": [
    {
     "name": "stdout",
     "output_type": "stream",
     "text": [
      "Epoch 1/10\n"
     ]
    },
    {
     "name": "stderr",
     "output_type": "stream",
     "text": [
      "2024-02-03 20:49:02.994718: I external/local_xla/xla/stream_executor/cuda/cuda_executor.cc:901] successful NUMA node read from SysFS had negative value (-1), but there must be at least one NUMA node, so returning NUMA node zero. See more at https://github.com/torvalds/linux/blob/v6.0/Documentation/ABI/testing/sysfs-bus-pci#L344-L355\n",
      "2024-02-03 20:49:03.036280: I external/local_xla/xla/stream_executor/cuda/cuda_executor.cc:901] successful NUMA node read from SysFS had negative value (-1), but there must be at least one NUMA node, so returning NUMA node zero. See more at https://github.com/torvalds/linux/blob/v6.0/Documentation/ABI/testing/sysfs-bus-pci#L344-L355\n",
      "2024-02-03 20:49:03.036568: I external/local_xla/xla/stream_executor/cuda/cuda_executor.cc:901] successful NUMA node read from SysFS had negative value (-1), but there must be at least one NUMA node, so returning NUMA node zero. See more at https://github.com/torvalds/linux/blob/v6.0/Documentation/ABI/testing/sysfs-bus-pci#L344-L355\n",
      "2024-02-03 20:49:03.037621: I external/local_xla/xla/stream_executor/cuda/cuda_executor.cc:901] successful NUMA node read from SysFS had negative value (-1), but there must be at least one NUMA node, so returning NUMA node zero. See more at https://github.com/torvalds/linux/blob/v6.0/Documentation/ABI/testing/sysfs-bus-pci#L344-L355\n",
      "2024-02-03 20:49:03.037850: I external/local_xla/xla/stream_executor/cuda/cuda_executor.cc:901] successful NUMA node read from SysFS had negative value (-1), but there must be at least one NUMA node, so returning NUMA node zero. See more at https://github.com/torvalds/linux/blob/v6.0/Documentation/ABI/testing/sysfs-bus-pci#L344-L355\n",
      "2024-02-03 20:49:03.038068: I external/local_xla/xla/stream_executor/cuda/cuda_executor.cc:901] successful NUMA node read from SysFS had negative value (-1), but there must be at least one NUMA node, so returning NUMA node zero. See more at https://github.com/torvalds/linux/blob/v6.0/Documentation/ABI/testing/sysfs-bus-pci#L344-L355\n",
      "2024-02-03 20:49:03.131018: I external/local_xla/xla/stream_executor/cuda/cuda_executor.cc:901] successful NUMA node read from SysFS had negative value (-1), but there must be at least one NUMA node, so returning NUMA node zero. See more at https://github.com/torvalds/linux/blob/v6.0/Documentation/ABI/testing/sysfs-bus-pci#L344-L355\n",
      "2024-02-03 20:49:03.131299: I external/local_xla/xla/stream_executor/cuda/cuda_executor.cc:901] successful NUMA node read from SysFS had negative value (-1), but there must be at least one NUMA node, so returning NUMA node zero. See more at https://github.com/torvalds/linux/blob/v6.0/Documentation/ABI/testing/sysfs-bus-pci#L344-L355\n",
      "2024-02-03 20:49:03.131537: I external/local_xla/xla/stream_executor/cuda/cuda_executor.cc:901] successful NUMA node read from SysFS had negative value (-1), but there must be at least one NUMA node, so returning NUMA node zero. See more at https://github.com/torvalds/linux/blob/v6.0/Documentation/ABI/testing/sysfs-bus-pci#L344-L355\n",
      "2024-02-03 20:49:03.131686: I tensorflow/core/common_runtime/gpu/gpu_device.cc:1929] Created device /job:localhost/replica:0/task:0/device:GPU:0 with 2454 MB memory:  -> device: 0, name: NVIDIA GeForce GTX 1650, pci bus id: 0000:01:00.0, compute capability: 7.5\n"
     ]
    }
   ],
   "source": [
    "model = Sequential(\n",
    "    [ \n",
    "        Dense(25, activation = 'relu'),\n",
    "        Dense(15, activation = 'relu'),\n",
    "        Dense(4, activation = 'softmax')   \n",
    "    ]\n",
    ")\n",
    "model.compile(\n",
    "    loss=tf.keras.losses.SparseCategoricalCrossentropy(),\n",
    "    optimizer=tf.keras.optimizers.Adam(0.001),\n",
    ")\n",
    "\n",
    "model.fit(\n",
    "    X_train,y_train,\n",
    "    epochs=10\n",
    ")      "
   ]
  },
  {
   "cell_type": "code",
   "execution_count": null,
   "id": "9628749e",
   "metadata": {},
   "outputs": [],
   "source": [
    "p_nonpreferred = model.predict(X_train)\n",
    "print(p_nonpreferred [:2])\n",
    "print(\"largest value\", np.max(p_nonpreferred), \"smallest value\", np.min(p_nonpreferred))"
   ]
  },
  {
   "cell_type": "code",
   "execution_count": null,
   "id": "e3fbfac1",
   "metadata": {},
   "outputs": [],
   "source": [
    "\"\"\"\n",
    "more stable and accurate results can be obtained \n",
    "if the softmax and loss are combined during training.\n",
    "\"\"\"\n",
    "\n",
    "preferred_model = Sequential(\n",
    "    [ \n",
    "        Dense(25, activation = 'relu'),\n",
    "        Dense(15, activation = 'relu'),\n",
    "        Dense(4, activation = 'linear')  \n",
    "    ]\n",
    ")\n",
    "preferred_model.compile(\n",
    "    loss=tf.keras.losses.SparseCategoricalCrossentropy(from_logits=True),\n",
    "    optimizer=tf.keras.optimizers.Adam(0.001),\n",
    ")\n",
    "\n",
    "preferred_model.fit(\n",
    "    X_train,y_train,\n",
    "    epochs=10\n",
    ")"
   ]
  },
  {
   "cell_type": "code",
   "execution_count": null,
   "id": "f93e7f50",
   "metadata": {},
   "outputs": [],
   "source": [
    "p_preferred = preferred_model.predict(X_train)\n",
    "print(f\"two example output vectors:\\n {p_preferred[:2]}\")\n",
    "print(\"largest value\", np.max(p_preferred), \"smallest value\", np.min(p_preferred))"
   ]
  },
  {
   "cell_type": "code",
   "execution_count": null,
   "id": "9b51c13d",
   "metadata": {},
   "outputs": [],
   "source": [
    "sm_preferred = tf.nn.softmax(p_preferred).numpy()\n",
    "print(f\"two example output vectors:\\n {sm_preferred[:2]}\")\n",
    "print(\"largest value\", np.max(sm_preferred), \"smallest value\", np.min(sm_preferred))"
   ]
  },
  {
   "cell_type": "code",
   "execution_count": null,
   "id": "29f3e2c9",
   "metadata": {},
   "outputs": [],
   "source": [
    "for i in range(5):\n",
    "    print( f\"{p_preferred[i]}, category: {np.argmax(p_preferred[i])}\")"
   ]
  }
 ],
 "metadata": {
  "kernelspec": {
   "display_name": "Python 3 (ipykernel)",
   "language": "python",
   "name": "python3"
  },
  "language_info": {
   "codemirror_mode": {
    "name": "ipython",
    "version": 3
   },
   "file_extension": ".py",
   "mimetype": "text/x-python",
   "name": "python",
   "nbconvert_exporter": "python",
   "pygments_lexer": "ipython3",
   "version": "3.9.18"
  }
 },
 "nbformat": 4,
 "nbformat_minor": 5
}
