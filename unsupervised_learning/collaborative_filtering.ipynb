{
 "cells": [
  {
   "cell_type": "code",
   "execution_count": 2,
   "id": "ec0f4b02",
   "metadata": {},
   "outputs": [],
   "source": [
    "import numpy as np\n",
    "from numpy import loadtxt\n",
    "import time\n",
    "import pandas as pd\n",
    "import matplotlib.pyplot as plt\n",
    "import tensorflow as tf"
   ]
  },
  {
   "cell_type": "code",
   "execution_count": 4,
   "id": "835e54ae",
   "metadata": {},
   "outputs": [
    {
     "data": {
      "text/html": [
       "<div>\n",
       "<style scoped>\n",
       "    .dataframe tbody tr th:only-of-type {\n",
       "        vertical-align: middle;\n",
       "    }\n",
       "\n",
       "    .dataframe tbody tr th {\n",
       "        vertical-align: top;\n",
       "    }\n",
       "\n",
       "    .dataframe thead th {\n",
       "        text-align: right;\n",
       "    }\n",
       "</style>\n",
       "<table border=\"1\" class=\"dataframe\">\n",
       "  <thead>\n",
       "    <tr style=\"text-align: right;\">\n",
       "      <th></th>\n",
       "      <th>Unnamed: 0</th>\n",
       "      <th>mean rating</th>\n",
       "      <th>number of ratings</th>\n",
       "      <th>title</th>\n",
       "    </tr>\n",
       "  </thead>\n",
       "  <tbody>\n",
       "    <tr>\n",
       "      <th>0</th>\n",
       "      <td>0</td>\n",
       "      <td>3.400000</td>\n",
       "      <td>5</td>\n",
       "      <td>Yards, The (2000)</td>\n",
       "    </tr>\n",
       "    <tr>\n",
       "      <th>1</th>\n",
       "      <td>1</td>\n",
       "      <td>3.250000</td>\n",
       "      <td>6</td>\n",
       "      <td>Next Friday (2000)</td>\n",
       "    </tr>\n",
       "    <tr>\n",
       "      <th>2</th>\n",
       "      <td>2</td>\n",
       "      <td>2.000000</td>\n",
       "      <td>4</td>\n",
       "      <td>Supernova (2000)</td>\n",
       "    </tr>\n",
       "    <tr>\n",
       "      <th>3</th>\n",
       "      <td>3</td>\n",
       "      <td>2.000000</td>\n",
       "      <td>4</td>\n",
       "      <td>Down to You (2000)</td>\n",
       "    </tr>\n",
       "    <tr>\n",
       "      <th>4</th>\n",
       "      <td>4</td>\n",
       "      <td>2.672414</td>\n",
       "      <td>29</td>\n",
       "      <td>Scream 3 (2000)</td>\n",
       "    </tr>\n",
       "    <tr>\n",
       "      <th>5</th>\n",
       "      <td>5</td>\n",
       "      <td>4.220930</td>\n",
       "      <td>43</td>\n",
       "      <td>Boondock Saints, The (2000)</td>\n",
       "    </tr>\n",
       "    <tr>\n",
       "      <th>6</th>\n",
       "      <td>6</td>\n",
       "      <td>1.000000</td>\n",
       "      <td>1</td>\n",
       "      <td>Gun Shy (2000)</td>\n",
       "    </tr>\n",
       "    <tr>\n",
       "      <th>7</th>\n",
       "      <td>7</td>\n",
       "      <td>3.062500</td>\n",
       "      <td>32</td>\n",
       "      <td>Beach, The (2000)</td>\n",
       "    </tr>\n",
       "    <tr>\n",
       "      <th>8</th>\n",
       "      <td>8</td>\n",
       "      <td>2.300000</td>\n",
       "      <td>5</td>\n",
       "      <td>Snow Day (2000)</td>\n",
       "    </tr>\n",
       "    <tr>\n",
       "      <th>9</th>\n",
       "      <td>9</td>\n",
       "      <td>3.166667</td>\n",
       "      <td>3</td>\n",
       "      <td>Tigger Movie, The (2000)</td>\n",
       "    </tr>\n",
       "  </tbody>\n",
       "</table>\n",
       "</div>"
      ],
      "text/plain": [
       "   Unnamed: 0  mean rating  number of ratings                        title\n",
       "0           0     3.400000                  5            Yards, The (2000)\n",
       "1           1     3.250000                  6           Next Friday (2000)\n",
       "2           2     2.000000                  4             Supernova (2000)\n",
       "3           3     2.000000                  4           Down to You (2000)\n",
       "4           4     2.672414                 29              Scream 3 (2000)\n",
       "5           5     4.220930                 43  Boondock Saints, The (2000)\n",
       "6           6     1.000000                  1               Gun Shy (2000)\n",
       "7           7     3.062500                 32            Beach, The (2000)\n",
       "8           8     2.300000                  5              Snow Day (2000)\n",
       "9           9     3.166667                  3     Tigger Movie, The (2000)"
      ]
     },
     "execution_count": 4,
     "metadata": {},
     "output_type": "execute_result"
    }
   ],
   "source": [
    "path = \"/home/sam/projects/machine-learning/data/collaborative_filtering/small_movie_list.csv\"\n",
    "with open(path) as file:\n",
    "    data = pd.read_csv(file)\n",
    "data.head(10)"
   ]
  },
  {
   "cell_type": "code",
   "execution_count": 36,
   "id": "361c7733",
   "metadata": {},
   "outputs": [
    {
     "name": "stdout",
     "output_type": "stream",
     "text": [
      "Y (4778, 443) R (4778, 443)\n",
      "X (4778, 10)\n",
      "W (443, 10)\n",
      "b (1, 443)\n",
      "num_features 10\n",
      "num_movies 4778\n",
      "num_users 443\n"
     ]
    }
   ],
   "source": [
    "def load_precalc_params_small():\n",
    "\n",
    "    file = open(\"/home/sam/projects/machine-learning/data/collaborative_filtering/small_movies_X.csv\", 'rb')\n",
    "    X = loadtxt(file, delimiter = \",\")\n",
    "\n",
    "    file = open(\"/home/sam/projects/machine-learning/data/collaborative_filtering/small_movies_W.csv\", 'rb')\n",
    "    W = loadtxt(file,delimiter = \",\")\n",
    "\n",
    "    file = open(\"/home/sam/projects/machine-learning/data/collaborative_filtering/small_movies_b.csv\", 'rb')\n",
    "    b = loadtxt(file,delimiter = \",\")\n",
    "    b = b.reshape(1,-1)\n",
    "    num_movies, num_features = X.shape\n",
    "    num_users,_ = W.shape\n",
    "    return(X, W, b, num_movies, num_features, num_users)\n",
    "    \n",
    "def load_ratings_small():\n",
    "    file = open(\"/home/sam/projects/machine-learning/data/collaborative_filtering/small_movies_Y.csv\", 'rb')\n",
    "    Y = loadtxt(file,delimiter = \",\")\n",
    "\n",
    "    file = open(\"/home/sam/projects/machine-learning/data/collaborative_filtering/small_movies_R.csv\", 'rb')\n",
    "    R = loadtxt(file,delimiter = \",\")\n",
    "    return(Y,R)\n",
    "\n",
    "def load_Movie_List_pd():\n",
    "    \"\"\" returns df with and index of movies in the order they are in in the Y matrix \"\"\"\n",
    "    df = pd.read_csv('/home/sam/projects/machine-learning/data/collaborative_filtering/small_movie_list.csv', header=0, index_col=0,  delimiter=',', quotechar='\"')\n",
    "    mlist = df[\"title\"].to_list()\n",
    "    return(mlist, df)\n",
    "\n",
    "X, W, b, num_movies, num_features, num_users = load_precalc_params_small()\n",
    "Y, R = load_ratings_small()\n",
    "\n",
    "print(\"Y\", Y.shape, \"R\", R.shape)\n",
    "print(\"X\", X.shape)\n",
    "print(\"W\", W.shape)\n",
    "print(\"b\", b.shape)\n",
    "print(\"num_features\", num_features)\n",
    "print(\"num_movies\",   num_movies)\n",
    "print(\"num_users\",    num_users)"
   ]
  },
  {
   "cell_type": "markdown",
   "id": "e9a8b06e",
   "metadata": {},
   "source": [
    "<h4>Cost Function for Collaborative Filtering Algorithm (loop version)</h4>"
   ]
  },
  {
   "cell_type": "code",
   "execution_count": 25,
   "id": "a23bbed2",
   "metadata": {},
   "outputs": [
    {
     "name": "stdout",
     "output_type": "stream",
     "text": [
      "318399.41526138317\n",
      "5.375514507293701\n"
     ]
    }
   ],
   "source": [
    "def cofi_cost_func(X, W, b, Y, R, lambda_):\n",
    "    tick = time.time()\n",
    "    nm, nu = Y.shape\n",
    "    J = 0\n",
    "\n",
    "    for j in range(nu):\n",
    "        w = W[j,:]\n",
    "        b_j = b[0,j]\n",
    "        for i in range(nm):\n",
    "            x = X[i,:]\n",
    "            y = Y[i,j]\n",
    "            r = R[i,j] # the matrix R i a binary indicator (filled with 0 and 1), where R(i,j)=1,\n",
    "            # if user j gave a rating to movie i and R(i,j)=0 otherwise.\n",
    "            J += np.square(r * (np.dot(w,x) + b_j - y ) )\n",
    "    J = J/2\n",
    "    J += (lambda_/2) * (np.sum(np.square(W)) + np.sum(np.square(X)))\n",
    "    tock = time.time()\n",
    "    return J, tock-tick\n",
    "\n",
    "cost, t = cofi_cost_func(X, W, b, Y, R, 2)\n",
    "print(cost)\n",
    "print(t)"
   ]
  },
  {
   "cell_type": "markdown",
   "id": "f03ac426",
   "metadata": {},
   "source": [
    "<h4>Cost Function for Collaborative Filtering Algorithm (vectorized version using numpy)</h4>"
   ]
  },
  {
   "cell_type": "code",
   "execution_count": 18,
   "id": "b2a4d537",
   "metadata": {},
   "outputs": [
    {
     "name": "stdout",
     "output_type": "stream",
     "text": [
      "318399.41526138433\n",
      "0.03490900993347168\n"
     ]
    }
   ],
   "source": [
    "def cofi_cost_func(X, W, b, Y, R, lambda_):\n",
    "    \n",
    "    tick = time.time()\n",
    "    nm, nu = Y.shape # mn = number of movies, nu = number of users\n",
    "\n",
    "    predictions = np.matmul(X, W.T) + b\n",
    "    error = np.multiply(predictions - Y, R)\n",
    "    squared_error = np.sum(np.square(error))\n",
    "    regularization = (lambda_ / 2) * (np.sum(np.square(W)) + np.sum(np.square(X)))\n",
    "    J = (squared_error / 2) + regularization\n",
    "    tock = time.time()\n",
    "    \n",
    "    return J, tock - tick\n",
    "\n",
    "cost, t = cofi_cost_func(X, W, b, Y, R, 2)\n",
    "print(cost)\n",
    "print(t)\n"
   ]
  },
  {
   "cell_type": "markdown",
   "id": "22a80cfa",
   "metadata": {},
   "source": [
    "<h4>Cost Function for Collaborative Filtering Algorithm (vectorized version using tensorflow)</h4>"
   ]
  },
  {
   "cell_type": "code",
   "execution_count": 19,
   "id": "e7da616b",
   "metadata": {},
   "outputs": [
    {
     "name": "stdout",
     "output_type": "stream",
     "text": [
      "318399.41526138433\n",
      "0.0378108024597168\n"
     ]
    }
   ],
   "source": [
    "def cofi_cost_func_v(X, W, b, Y, R, lambda_):\n",
    "    tick = time.time()\n",
    "    j = (tf.linalg.matmul(X, tf.transpose(W)) + b - Y)*R\n",
    "    J = 0.5 * tf.reduce_sum(j**2) + (lambda_/2) * (tf.reduce_sum(X**2) + tf.reduce_sum(W**2))\n",
    "    tock = time.time()\n",
    "    \n",
    "    return J, tock-tick\n",
    "cost, t = cofi_cost_func(X, W, b, Y, R, 2)\n",
    "print(cost)\n",
    "print(t)"
   ]
  },
  {
   "cell_type": "code",
   "execution_count": 37,
   "id": "297a8d81",
   "metadata": {},
   "outputs": [
    {
     "name": "stdout",
     "output_type": "stream",
     "text": [
      "318399.4152613844\n"
     ]
    }
   ],
   "source": [
    "def compute_cost(X, W, b, Y, R, lambda_):\n",
    "\n",
    "    Y_hat = tf.linalg.matmul(X, tf.transpose(W)) + b\n",
    "    error = tf.math.multiply(Y_hat - Y, R)\n",
    "    squared_error = tf.math.reduce_sum(tf.math.square(error))\n",
    "    regularization = (lambda_ / 2) * (tf.math.reduce_sum(tf.math.square(W)) + tf.math.reduce_sum(tf.math.square(X)))\n",
    "\n",
    "    cost = (squared_error / 2) + regularization\n",
    "        \n",
    "    return float(cost)\n",
    "\n",
    "cost = compute_cost(X, W, b, Y, R, 2)\n",
    "print(cost)   "
   ]
  },
  {
   "cell_type": "code",
   "execution_count": 20,
   "id": "f995f38e",
   "metadata": {},
   "outputs": [],
   "source": [
    "def normalizeRatings(Y, R):\n",
    "   \n",
    "    Ymean = (np.sum(Y*R,axis=1)/(np.sum(R, axis=1)+1e-12)).reshape(-1,1)\n",
    "    Ynorm = Y - np.multiply(Ymean, R) \n",
    "    \n",
    "    return(Ynorm, Ymean)"
   ]
  },
  {
   "cell_type": "markdown",
   "id": "2fd73a02",
   "metadata": {},
   "source": [
    "<h4>Implement Collaborative filtering algorithm with TensorFlow</h4>"
   ]
  },
  {
   "cell_type": "code",
   "execution_count": 21,
   "id": "968efdda",
   "metadata": {},
   "outputs": [],
   "source": [
    "def recommender_system(Y, R, num_features, epochs, alpha, lambda_):\n",
    "    \n",
    "    Ynorm, Ymean = normalizeRatings(Y, R)\n",
    "    num_movies, num_users = Y.shape\n",
    "    \n",
    "    tf.random.set_seed(1234)\n",
    "    W = tf.Variable(tf.random.normal((num_users, num_features),dtype=tf.float64), name='W')\n",
    "    X = tf.Variable(tf.random.normal((num_movies, num_features),dtype=tf.float64), name='X')\n",
    "    b = tf.Variable(tf.random.normal((1, num_users), dtype=tf.float64), name='b')\n",
    "    \n",
    "    optimizer = tf.keras.optimizers.Adam(learning_rate=alpha)\n",
    "    \n",
    "    for i in range(epochs):\n",
    "        \n",
    "        with tf.GradientTape() as tape:\n",
    "\n",
    "            cost_value, t = cofi_cost_func_v(X, W, b, Ynorm, R, lambda_)\n",
    "\n",
    "        grads = tape.gradient(cost_value, [X,W,b])\n",
    "        optimizer.apply_gradients(zip(grads, [X,W,b]))  \n",
    "\n",
    "    return W, X, b    "
   ]
  },
  {
   "cell_type": "code",
   "execution_count": 40,
   "id": "6e65616e",
   "metadata": {},
   "outputs": [],
   "source": [
    "Y, R = load_ratings_small()\n",
    "W, X, b = recommender_system(Y, R, 100, 300, 1e-1, 2)"
   ]
  },
  {
   "cell_type": "code",
   "execution_count": 24,
   "id": "031db574",
   "metadata": {},
   "outputs": [
    {
     "name": "stdout",
     "output_type": "stream",
     "text": [
      "tf.Tensor([1420 1393 3532 ... 4379 3005 4077], shape=(4778,), dtype=int32)\n"
     ]
    }
   ],
   "source": [
    "\n",
    "def predict(X, W, b, Y, R):\n",
    "    \n",
    "    p = np.matmul(X, np.transpose(W)) + b\n",
    "    Ynorm, Ymean = normalizeRatings(Y, R)\n",
    "    pm = p + Ymean\n",
    "    my_predictions = pm[:,0]\n",
    "    ix = tf.argsort(my_predictions, direction='DESCENDING')\n",
    "    return ix\n",
    "\n",
    "ix = predict(X, W, b, Y, R)\n",
    "print(ix)"
   ]
  }
 ],
 "metadata": {
  "kernelspec": {
   "display_name": "newenv",
   "language": "python",
   "name": "newenv"
  },
  "language_info": {
   "codemirror_mode": {
    "name": "ipython",
    "version": 3
   },
   "file_extension": ".py",
   "mimetype": "text/x-python",
   "name": "python",
   "nbconvert_exporter": "python",
   "pygments_lexer": "ipython3",
   "version": "3.11.2"
  }
 },
 "nbformat": 4,
 "nbformat_minor": 5
}
