{
 "cells": [
  {
   "cell_type": "markdown",
   "id": "f61a0cea",
   "metadata": {},
   "source": [
    "<p>A <b>Logistic Regression</b> Model</p>"
   ]
  },
  {
   "cell_type": "code",
   "execution_count": 1,
   "id": "57b9ea66",
   "metadata": {},
   "outputs": [],
   "source": [
    "import numpy as np\n",
    "import matplotlib.pyplot as plt\n",
    "from sklearn.datasets import make_blobs"
   ]
  },
  {
   "cell_type": "code",
   "execution_count": 2,
   "id": "95859f0c",
   "metadata": {},
   "outputs": [],
   "source": [
    "def layer_size(X, Y):\n",
    "    in_layer = X.shape[0]\n",
    "    out_layer = Y.shape[0]\n",
    "    return in_layer, out_layer"
   ]
  },
  {
   "cell_type": "code",
   "execution_count": 3,
   "id": "b6aa9be4",
   "metadata": {},
   "outputs": [],
   "source": [
    "def param_init(in_layer, out_layer):\n",
    "    \n",
    "    W = np.random.randn(out_layer, in_layer) * 0.01\n",
    "    b = np.zeros((out_layer, 1))\n",
    "    params = {\"W\": W, \"b\": b}\n",
    "    \n",
    "    return params"
   ]
  },
  {
   "cell_type": "code",
   "execution_count": 4,
   "id": "0cc0bc15",
   "metadata": {},
   "outputs": [],
   "source": [
    "def sigmoid(Z):\n",
    "    g = 1 / (1 + np.exp(-Z))\n",
    "    return g"
   ]
  },
  {
   "cell_type": "code",
   "execution_count": 5,
   "id": "c8821e39",
   "metadata": {},
   "outputs": [],
   "source": [
    "def for_prop(X, W, b):\n",
    "    Z = np.matmul(W, X) + b\n",
    "    return Z"
   ]
  },
  {
   "cell_type": "code",
   "execution_count": 6,
   "id": "9e4ad3bb",
   "metadata": {},
   "outputs": [],
   "source": [
    "def compute_cost(g, Y):\n",
    "    log = - np.multiply(np.log(g), Y) - np.multiply(np.log(1 - g), 1 - Y)\n",
    "    cost = np.mean(log)\n",
    "    return cost"
   ]
  },
  {
   "cell_type": "code",
   "execution_count": 7,
   "id": "189db58d",
   "metadata": {},
   "outputs": [],
   "source": [
    "def back_prop(X, Y, g):\n",
    "    \n",
    "    m = X.shape[1]\n",
    "    \n",
    "    dg = g - Y\n",
    "    dW = np.matmul(dg, X.T) / m\n",
    "    db = np.sum(dg, axis=1, keepdims=True) / m\n",
    "    \n",
    "    grads = {\"dW\": dW, \"db\": db}\n",
    "    \n",
    "    return grads"
   ]
  },
  {
   "cell_type": "code",
   "execution_count": 8,
   "id": "f32adcae",
   "metadata": {},
   "outputs": [],
   "source": [
    "def param_update(W, b, grads, alpha):\n",
    "    \n",
    "    W -= grads[\"dW\"] * alpha\n",
    "    b -= grads[\"db\"] * alpha \n",
    "    return W, b"
   ]
  },
  {
   "cell_type": "code",
   "execution_count": 24,
   "id": "2f2526b8",
   "metadata": {},
   "outputs": [],
   "source": [
    "def train(X, Y, num_iter=100, alpha=1e-2, n=20):\n",
    "    \n",
    "    cost_ = []\n",
    "    params_ = []\n",
    "    params = {}\n",
    "    \n",
    "    in_layer, out_layer = layer_size(X, Y)\n",
    "    params = param_init(in_layer, out_layer)\n",
    "    params_.append(params)\n",
    "    \n",
    "    for i in range(num_iter):\n",
    "        \n",
    "        Z = for_prop(X, params[\"W\"], params[\"b\"])\n",
    "        g = sigmoid(Z)\n",
    "        cost = compute_cost(g, Y)\n",
    "        grads = back_prop(X, Y, g)\n",
    "        W, b = param_update(params[\"W\"], params[\"b\"], grads, alpha)\n",
    "        params = {\"W\": W, \"b\": b}\n",
    "        cost_.append(cost)\n",
    "        params_.append(params)\n",
    "        \n",
    "        if i % n == 0:\n",
    "            print(f\"Iteration {i}: {cost}\")\n",
    "              \n",
    "    return params_, cost_, params"
   ]
  },
  {
   "cell_type": "code",
   "execution_count": 72,
   "id": "f8de9004",
   "metadata": {},
   "outputs": [],
   "source": [
    "def predict(X, params, threshold=0.5):\n",
    "    \n",
    "    Z = for_prop(X, params[\"W\"], params[\"b\"])\n",
    "    g = sigmoid(Z)\n",
    "    y_hat = np.where(g > threshold, 1, 0)\n",
    "    return g, y_hat"
   ]
  },
  {
   "cell_type": "markdown",
   "id": "f5b14fd1",
   "metadata": {},
   "source": [
    "<p>Generate <b>synthetic Data</b></p>"
   ]
  },
  {
   "cell_type": "code",
   "execution_count": 137,
   "id": "ffac797c",
   "metadata": {},
   "outputs": [
    {
     "name": "stdout",
     "output_type": "stream",
     "text": [
      "(10000, 2)\n",
      "[[ 4.84487143  1.61013045]\n",
      " [ 3.99476208  2.1777938 ]\n",
      " [ 5.90463194  0.81845149]\n",
      " [ 2.5035299   0.74602445]\n",
      " [ 1.96985238  0.57528872]\n",
      " [ 7.60241988  5.09784632]\n",
      " [-0.40639611  3.4742403 ]\n",
      " [ 3.61570023  3.88822364]\n",
      " [ 4.77176118  6.50229111]\n",
      " [ 5.0827538   8.37649002]\n",
      " [ 5.99795972  7.39617156]\n",
      " [ 7.52667677  5.37294547]\n",
      " [ 4.12861853  2.71040649]\n",
      " [ 7.90906268  5.40127897]\n",
      " [ 4.33565989  7.4811675 ]\n",
      " [ 4.89466159  7.03046547]\n",
      " [ 1.96430042  4.42196485]\n",
      " [ 5.93164415  8.83858933]\n",
      " [ 3.0029825   4.35642206]\n",
      " [ 4.54671485  9.02867088]]\n",
      "(10000,)\n",
      "[0 0 0 0 0 1 0 0 1 1 1 1 0 1 1 1 0 1 0 1]\n"
     ]
    }
   ],
   "source": [
    "X, Y = make_blobs(n_samples=10000,\n",
    "                  centers=([2.5, 3], [6.7, 7.9]),\n",
    "                  cluster_std=1.5,\n",
    "                  random_state=0\n",
    "                  )\n",
    "\n",
    "print(X.shape)\n",
    "print(X[:20, :])\n",
    "print(Y.shape)\n",
    "print(Y[:20])"
   ]
  },
  {
   "cell_type": "code",
   "execution_count": 138,
   "id": "4fbd3874",
   "metadata": {},
   "outputs": [
    {
     "data": {
      "image/png": "[encoded data removed]",
      "text/plain": [
       "<Figure size 1200x400 with 2 Axes>"
      ]
     },
     "metadata": {},
     "output_type": "display_data"
    }
   ],
   "source": [
    "plt.figure(figsize=(12, 4))\n",
    "plt.subplot(1, 2, 1)\n",
    "plt.scatter(X[:, 0], Y== 0 , color=\"blue\")\n",
    "plt.scatter(X[:, 0], Y== 1 , color=\"red\")\n",
    "plt.xlabel(\"X1\")\n",
    "plt.ylabel(\"Y\")\n",
    "plt.subplot(1, 2, 2)\n",
    "plt.scatter(X[:, 1], Y==0 , color=\"blue\")\n",
    "plt.scatter(X[:, 0], Y==1 , color=\"red\")\n",
    "plt.xlabel(\"X2\")\n",
    "plt.ylabel(\"Y\")\n",
    "plt.show()"
   ]
  },
  {
   "cell_type": "code",
   "execution_count": 139,
   "id": "db35c922",
   "metadata": {},
   "outputs": [
    {
     "name": "stdout",
     "output_type": "stream",
     "text": [
      "(8000, 2)\n",
      "(2000, 2)\n",
      "(8000,)\n",
      "(2000,)\n"
     ]
    }
   ],
   "source": [
    "X_train = X[:8000, :]\n",
    "Y_train = Y[:8000]\n",
    "\n",
    "X_test = X[8000:, :]\n",
    "Y_test = Y[8000:]\n",
    "\n",
    "print(X_train.shape)\n",
    "print(X_test.shape)\n",
    "print(Y_train.shape)\n",
    "print(Y_test.shape)"
   ]
  },
  {
   "cell_type": "code",
   "execution_count": 140,
   "id": "5ba09552",
   "metadata": {},
   "outputs": [
    {
     "name": "stdout",
     "output_type": "stream",
     "text": [
      "(2, 8000)\n",
      "(2, 2000)\n",
      "(1, 8000)\n",
      "(1, 2000)\n"
     ]
    }
   ],
   "source": [
    "X_train = np.transpose(X_train)\n",
    "X_test = np.transpose(X_test)\n",
    "Y_train = Y_train.reshape((1, 8000))\n",
    "Y_test = Y_test.reshape((1, 2000))\n",
    "\n",
    "print(X_train.shape)\n",
    "print(X_test.shape)\n",
    "print(Y_train.shape)\n",
    "print(Y_test.shape)"
   ]
  },
  {
   "cell_type": "code",
   "execution_count": 141,
   "id": "f4792f67",
   "metadata": {},
   "outputs": [
    {
     "name": "stdout",
     "output_type": "stream",
     "text": [
      "Iteration 0: 0.7048813946346586\n",
      "Iteration 500: 0.47333002154611986\n",
      "Iteration 1000: 0.3843123803265753\n",
      "Iteration 1500: 0.3246362839562044\n",
      "Iteration 2000: 0.2825554804598441\n",
      "Iteration 2500: 0.2515171092400737\n",
      "Iteration 3000: 0.22775182280255063\n",
      "Iteration 3500: 0.20899093148206868\n",
      "Iteration 4000: 0.19380537405672174\n",
      "Iteration 4500: 0.18125700578725457\n",
      "Iteration 5000: 0.1707072208462672\n",
      "Iteration 5500: 0.16170741134673516\n",
      "Iteration 6000: 0.15393371406515888\n",
      "Iteration 6500: 0.14714669813205455\n",
      "Iteration 7000: 0.14116563370173188\n",
      "Iteration 7500: 0.1358515815090356\n",
      "Iteration 8000: 0.1310959863378573\n",
      "Iteration 8500: 0.12681280181083832\n",
      "Iteration 9000: 0.12293293851776192\n",
      "Iteration 9500: 0.1194002757792461\n"
     ]
    }
   ],
   "source": [
    "params_, cost_, params = train(X_train, Y_train, num_iter=10000, alpha=0.01, n=500)\n"
   ]
  },
  {
   "cell_type": "code",
   "execution_count": 142,
   "id": "1eafcac4",
   "metadata": {},
   "outputs": [
    {
     "data": {
      "image/png": "[encoded data removed]",
      "text/plain": [
       "<Figure size 640x480 with 1 Axes>"
      ]
     },
     "metadata": {},
     "output_type": "display_data"
    }
   ],
   "source": [
    "plt.plot(cost_)\n",
    "plt.show()"
   ]
  },
  {
   "cell_type": "code",
   "execution_count": 143,
   "id": "7f5ee9df",
   "metadata": {},
   "outputs": [
    {
     "name": "stdout",
     "output_type": "stream",
     "text": [
      "{'W': array([[0.56963753, 0.65526389]]), 'b': array([[-5.86787156]])}\n"
     ]
    }
   ],
   "source": [
    "print(params)"
   ]
  },
  {
   "cell_type": "code",
   "execution_count": 144,
   "id": "42a671f4",
   "metadata": {},
   "outputs": [
    {
     "name": "stdout",
     "output_type": "stream",
     "text": [
      "[[0.98423204 0.97129212 0.98611764 ... 0.04301479 0.97258634 0.96200021]]\n",
      "[[1 1 1 ... 0 1 1]]\n"
     ]
    }
   ],
   "source": [
    "g, y_hat = predict(X_test, params)\n",
    "print(g)\n",
    "print(y_hat)"
   ]
  },
  {
   "cell_type": "code",
   "execution_count": 145,
   "id": "f3959265",
   "metadata": {},
   "outputs": [
    {
     "name": "stdout",
     "output_type": "stream",
     "text": [
      "0.987\n"
     ]
    }
   ],
   "source": [
    "accuracy = np.mean(y_hat == Y_test)\n",
    "print(accuracy)"
   ]
  }
 ],
 "metadata": {
  "kernelspec": {
   "display_name": "Python 3 (ipykernel)",
   "language": "python",
   "name": "python3"
  },
  "language_info": {
   "codemirror_mode": {
    "name": "ipython",
    "version": 3
   },
   "file_extension": ".py",
   "mimetype": "text/x-python",
   "name": "python",
   "nbconvert_exporter": "python",
   "pygments_lexer": "ipython3",
   "version": "3.9.18"
  }
 },
 "nbformat": 4,
 "nbformat_minor": 5
}
