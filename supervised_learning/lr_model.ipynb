{
 "cells": [
  {
   "cell_type": "code",
   "execution_count": 44,
   "id": "26fb787a",
   "metadata": {},
   "outputs": [],
   "source": [
    "import numpy as np\n",
    "import matplotlib.pyplot as plt\n",
    "import pandas as pd\n",
    "import math\n",
    "import copy\n",
    "%matplotlib inline"
   ]
  },
  {
   "cell_type": "markdown",
   "id": "261c5680",
   "metadata": {},
   "source": [
    "<p>Multiple Variable <b>Linear Regression</b></p>"
   ]
  },
  {
   "cell_type": "markdown",
   "id": "c7e9eabc",
   "metadata": {},
   "source": [
    "<p>Define the <mark style=\"background-color:lightgreen\">size</mark> of the network layers</p>"
   ]
  },
  {
   "cell_type": "code",
   "execution_count": 45,
   "id": "41ed7c94",
   "metadata": {},
   "outputs": [],
   "source": [
    "def layer_size(X_train, Y_train):\n",
    "    in_layer = X_train.shape[0]\n",
    "    out_layer = Y_train.shape[0]\n",
    "    return in_layer, out_layer"
   ]
  },
  {
   "cell_type": "markdown",
   "id": "e11119a2",
   "metadata": {},
   "source": [
    "<p>Initialize the model <mark style=\"background-color:lightgreen\">parameters</mark></p>"
   ]
  },
  {
   "cell_type": "code",
   "execution_count": 46,
   "id": "253ffaa7",
   "metadata": {},
   "outputs": [],
   "source": [
    "def init_param(in_layer, out_layer):\n",
    "    W = np.random.randn(out_layer, in_layer) * 0.01\n",
    "    b = np.zeros((out_layer, 1))\n",
    "    \n",
    "    params = {\n",
    "        \"W\": W,\n",
    "        \"b\": b\n",
    "    }\n",
    "    \n",
    "    return params"
   ]
  },
  {
   "cell_type": "markdown",
   "id": "91d3b92f",
   "metadata": {},
   "source": [
    "<p>Define <mark style=\"background-color:lightgreen\">forward propagation</mark> function.</p>"
   ]
  },
  {
   "cell_type": "code",
   "execution_count": 47,
   "id": "f1668e9a",
   "metadata": {},
   "outputs": [],
   "source": [
    "def forward_propagation(X_train, W, b):\n",
    "    y_hat = np.dot(W, X_train) + b\n",
    "    return y_hat"
   ]
  },
  {
   "cell_type": "markdown",
   "id": "6966e732",
   "metadata": {},
   "source": [
    "<p>Implement <mark style=\"background-color:lightgreen\">cost function</mark> (squared error).</p>"
   ]
  },
  {
   "cell_type": "code",
   "execution_count": 48,
   "id": "88af900b",
   "metadata": {},
   "outputs": [],
   "source": [
    "def compute_cost(Y_train, y_hat):\n",
    "    cost = np.mean(np.power(y_hat - Y_train, 2)) / 2\n",
    "    return cost"
   ]
  },
  {
   "cell_type": "markdown",
   "id": "00bdc62b",
   "metadata": {},
   "source": [
    "<p>Implement <mark style=\"background-color:lightgreen\">backward propagation</mark>.</p>"
   ]
  },
  {
   "cell_type": "code",
   "execution_count": 49,
   "id": "6df87e26",
   "metadata": {},
   "outputs": [],
   "source": [
    "def back_propagation(X_train, Y_train, y_hat):\n",
    "    m = X_train.shape[1]\n",
    "    dz = y_hat - Y_train\n",
    "    dw = np.dot(dz, X_train.T) / m\n",
    "    db = np.sum(dz, axis=1, keepdims=True) / m\n",
    "    grads = {\n",
    "        \"dW\": dw,\n",
    "        \"db\": db\n",
    "    }\n",
    "    \n",
    "    return grads"
   ]
  },
  {
   "cell_type": "markdown",
   "id": "31f6a856",
   "metadata": {},
   "source": [
    "<p>Implement <mark style=\"background-color:lightgreen\">train</mark> function</p>"
   ]
  },
  {
   "cell_type": "code",
   "execution_count": 50,
   "id": "03675898",
   "metadata": {},
   "outputs": [],
   "source": [
    "def train(X_train, Y_train, alpha, n):\n",
    "    \n",
    "    in_layer, out_layer = layer_size(X_train, Y_train)\n",
    "    params = init_param(in_layer, out_layer)\n",
    "    cost_ = []\n",
    "    \n",
    "    for _ in range(n):\n",
    "        y_hat = forward_propagation(X_train, params[\"W\"], params[\"b\"])\n",
    "        cost = compute_cost(Y_train, y_hat)\n",
    "        grads = back_propagation(X_train, Y_train, y_hat)\n",
    "        \n",
    "        params[\"W\"] -= grads[\"dW\"] * alpha\n",
    "        params[\"b\"] -= grads[\"db\"] * alpha\n",
    "        cost_.append(cost)\n",
    "    \n",
    "    return params, cost_"
   ]
  },
  {
   "cell_type": "markdown",
   "id": "7a59c523",
   "metadata": {},
   "source": [
    "<p>Implement <mark style=\"background-color:lightgreen\">predict</mark> function.</p> "
   ]
  },
  {
   "cell_type": "code",
   "execution_count": 51,
   "id": "589934ea",
   "metadata": {},
   "outputs": [],
   "source": [
    "def predict(X, params):\n",
    "    y_hat = np.dot(params[\"W\"], X) + params[\"b\"]\n",
    "    return y_hat"
   ]
  },
  {
   "cell_type": "markdown",
   "id": "d84a75fb",
   "metadata": {},
   "source": [
    "<p>training set</p>"
   ]
  },
  {
   "cell_type": "code",
   "execution_count": 52,
   "id": "0e7593f0",
   "metadata": {},
   "outputs": [
    {
     "name": "stdout",
     "output_type": "stream",
     "text": [
      "(3, 4)\n",
      "(3,)\n",
      "(4,)\n"
     ]
    }
   ],
   "source": [
    "X_train = np.array([[2104, 5, 1, 45], [1416, 3, 2, 40], [852, 2, 1, 35]])\n",
    "Y_train = np.array([460, 232, 178])\n",
    "b_init = 785.1811367994083\n",
    "w_init = np.array([ 0.39133535, 18.75376741, -53.36032453, -26.42131618])\n",
    "print(X_train.shape)\n",
    "print(y_train.shape)\n",
    "print(w_init.shape)"
   ]
  },
  {
   "cell_type": "code",
   "execution_count": 57,
   "id": "2f6f80c9",
   "metadata": {},
   "outputs": [
    {
     "name": "stdout",
     "output_type": "stream",
     "text": [
      "{'W': array([[nan, nan, nan, nan]]), 'b': array([[nan]])}\n",
      "[50253.94128334688, 28244061854317.92, 1.6097783101646938e+22, 9.17497710242879e+30, 5.229304202855131e+39, 2.980456751086544e+48, 1.6987197723642254e+57, 9.681901486975728e+65, 5.518227192530963e+74, 3.1451292279054053e+83, 1.7925753172347924e+92, 1.0216833824979049e+101, 5.823113394658202e+109, 3.3188999829031975e+118, 1.8916164515393906e+127, 1.0781321576929375e+136, 6.144844788729221e+144, 3.502271702791268e+153, 1.9961296829938466e+162, 1.137699770167314e+171, 6.484352084266608e+179, 3.695774848099788e+188, 2.1064173490807365e+197, 1.200558538026101e+206, 6.842617413193951e+214, 3.899969187702129e+223, 2.222798491655913e+232, 1.2668903000792558e+241, 7.2206771709622e+249, 4.115445418122861e+258, 2.345609779877683e+267, 1.3368869418677302e+276, 7.619625014650352e+284, 4.342826872313758e+293, 2.47520648412853e+302, inf, inf, inf, inf, inf, inf, inf, inf, inf, inf, inf, inf, inf, inf, inf, inf, inf, inf, inf, inf, inf, inf, inf, inf, inf, inf, inf, inf, inf, inf, inf, inf, inf, inf, inf, inf, inf, nan, nan, nan, nan, nan, nan, nan, nan, nan, nan, nan, nan, nan, nan, nan, nan, nan, nan, nan, nan, nan, nan, nan, nan, nan, nan, nan, nan]\n"
     ]
    },
    {
     "name": "stderr",
     "output_type": "stream",
     "text": [
      "/tmp/ipykernel_8079/1125832270.py:2: RuntimeWarning: overflow encountered in power\n",
      "  cost = np.mean(np.power(y_hat - Y_train, 2)) / 2\n",
      "/tmp/ipykernel_8079/4057311216.py:12: RuntimeWarning: invalid value encountered in subtract\n",
      "  params[\"W\"] -= grads[\"dW\"] * alpha\n",
      "/tmp/ipykernel_8079/4057311216.py:13: RuntimeWarning: invalid value encountered in subtract\n",
      "  params[\"b\"] -= grads[\"db\"] * alpha\n"
     ]
    }
   ],
   "source": [
    "params_, cost_ = train(X_train.T, Y_train.reshape((1, 3)), 0.01, 100)\n",
    "print(params_)\n",
    "print(cost_)"
   ]
  },
  {
   "cell_type": "markdown",
   "id": "f43a910c",
   "metadata": {},
   "source": [
    "normalize the data"
   ]
  },
  {
   "cell_type": "code",
   "execution_count": 66,
   "id": "5b88e78b",
   "metadata": {},
   "outputs": [],
   "source": [
    "mean = np.mean(X_train, axis=0)\n",
    "std = np.std(X_train, axis=0)\n",
    "X_train= (X_train - mean) / std\n",
    "\n",
    "mean1 = np.mean(Y_train, axis=0)\n",
    "std1 = np.std(Y_train, axis=0)\n",
    "Y_train= (Y_train - mean1) / std1\n"
   ]
  },
  {
   "cell_type": "code",
   "execution_count": 69,
   "id": "49a12390",
   "metadata": {},
   "outputs": [
    {
     "name": "stdout",
     "output_type": "stream",
     "text": [
      "{'W': array([[ 0.31449294,  0.31218454, -0.17561668,  0.2857126 ]]), 'b': array([[-2.34997207e-17]])}\n",
      "[0.4770224702542499, 0.44980952145409697, 0.42418218090316123, 0.4000473724826525, 0.37731749766378325, 0.35591011286654334, 0.33574762582836004, 0.3167570098624741, 0.29886953495187485, 0.28202051468675043, 0.2661490681118761, 0.25119789560536804, 0.23711306796200937, 0.22384382790307122, 0.2113424032804038, 0.19956383128571983, 0.18846579301659847, 0.17800845778894966, 0.16815433662164062, 0.15886814435282706, 0.1501166698793798, 0.14186865404076823, 0.1340946746969658, 0.12676703857648644, 0.11985967949563926, 0.11334806257359398, 0.10720909408997298, 0.10142103665250236, 0.09596342936184567, 0.09081701267918085, 0.08596365771943083, 0.08138629970938606, 0.07706887536532325, 0.07299626395918389, 0.06915423185598503, 0.06552938031794052, 0.06210909638282233, 0.05888150663543335, 0.05583543370173583, 0.05296035530522334, 0.050246365734577685, 0.04768413958054507, 0.045264897608340265, 0.0429803746397612, 0.040822789326614144, 0.03878481570402285, 0.0368595564187628, 0.03504051753393996, 0.03332158481714666, 0.03169700142470175, 0.030161346899729297, 0.028709517406677428, 0.027336707129439215, 0.02603839076452912, 0.02481030704480766, 0.023648443233047375, 0.022549020528210683, 0.02150848033067609, 0.020523471315816562, 0.019590837268315932, 0.018707605632413804, 0.017870976735909986, 0.017078313648244057, 0.01632713263530346, 0.015615094175814725, 0.01493999450624203, 0.014299757663066943, 0.013692427993156793, 0.013116163104654703, 0.012569227232448655, 0.012049984993805595, 0.01155689551119448, 0.011088506880676093, 0.010643450965511411, 0.010220438495838658, 0.009818254456397854, 0.00943575374534298, 0.009071857088181225, 0.008725547191818788, 0.008395865124577897, 0.008081906908882141, 0.007782820314090926, 0.007497801837701463, 0.0072260938638305594, 0.006966981988541613, 0.0067197925021971255, 0.00648389001959507, 0.0062586752491919995, 0.00604358289322832, 0.005838079671052637, 0.005641662458396402, 0.005453856535776579, 0.005274213939606138, 0.005102311909970193, 0.004937751429381454, 0.004780155847163557, 0.004629169584426045, 0.004484456914891259, 0.004345700817112577, 0.004212601893886166]\n"
     ]
    }
   ],
   "source": [
    "params_, cost_ = train(X_train.T, Y_train.reshape((1, 3)), 0.01, 100)\n",
    "print(params_)\n",
    "print(cost_)"
   ]
  },
  {
   "cell_type": "code",
   "execution_count": 70,
   "id": "de0d44b7",
   "metadata": {},
   "outputs": [
    {
     "data": {
      "image/png": "[encoded data removed]",
      "text/plain": [
       "<Figure size 640x480 with 1 Axes>"
      ]
     },
     "metadata": {},
     "output_type": "display_data"
    }
   ],
   "source": [
    "plt.plot(range(100), cost_)\n",
    "plt.show()"
   ]
  }
 ],
 "metadata": {
  "kernelspec": {
   "display_name": "Python 3 (ipykernel)",
   "language": "python",
   "name": "python3"
  },
  "language_info": {
   "codemirror_mode": {
    "name": "ipython",
    "version": 3
   },
   "file_extension": ".py",
   "mimetype": "text/x-python",
   "name": "python",
   "nbconvert_exporter": "python",
   "pygments_lexer": "ipython3",
   "version": "3.9.18"
  }
 },
 "nbformat": 4,
 "nbformat_minor": 5
}
