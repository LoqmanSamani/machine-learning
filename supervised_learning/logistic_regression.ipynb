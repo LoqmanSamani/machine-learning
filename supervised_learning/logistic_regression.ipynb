{
 "cells": [
  {
   "cell_type": "markdown",
   "id": "f61a0cea",
   "metadata": {},
   "source": [
    "<p>A <b>Logistic Regression</b> Model</p>"
   ]
  },
  {
   "cell_type": "code",
   "execution_count": 66,
   "id": "57b9ea66",
   "metadata": {},
   "outputs": [],
   "source": [
    "import numpy as np\n",
    "import matplotlib.pyplot as plt"
   ]
  },
  {
   "cell_type": "code",
   "execution_count": 67,
   "id": "95859f0c",
   "metadata": {},
   "outputs": [],
   "source": [
    "def layer_size(X, Y):\n",
    "    in_layer = X.shape[0]\n",
    "    out_layer = Y.shape[0]\n",
    "    return in_layer, out_layer"
   ]
  },
  {
   "cell_type": "code",
   "execution_count": 68,
   "id": "b6aa9be4",
   "metadata": {},
   "outputs": [],
   "source": [
    "def param_init(in_layer, out_layer):\n",
    "    \n",
    "    W = np.random.randn(out_layer, in_layer) * 0.01\n",
    "    b = np.zeros((out_layer, 1))\n",
    "    params = {\"W\": W, \"b\": b}\n",
    "    \n",
    "    return params"
   ]
  },
  {
   "cell_type": "code",
   "execution_count": 69,
   "id": "0cc0bc15",
   "metadata": {},
   "outputs": [],
   "source": [
    "def sigmoid(Z):\n",
    "    g = 1 / (1 + np.exp(-Z))\n",
    "    return g"
   ]
  },
  {
   "cell_type": "code",
   "execution_count": 70,
   "id": "c8821e39",
   "metadata": {},
   "outputs": [],
   "source": [
    "def for_prop(X, W, b):\n",
    "    Z = np.matmul(W, X) + b\n",
    "    return Z"
   ]
  },
  {
   "cell_type": "code",
   "execution_count": 72,
   "id": "9e4ad3bb",
   "metadata": {},
   "outputs": [],
   "source": [
    "def compute_cost(g, Y):\n",
    "    log = - np.multiply(np.log(g), Y) - np.multiply(np.log(1 - g), 1 - Y)\n",
    "    cost = np.mean(log)\n",
    "    return cost"
   ]
  },
  {
   "cell_type": "code",
   "execution_count": 73,
   "id": "189db58d",
   "metadata": {},
   "outputs": [],
   "source": [
    "def back_prop(X, Y, g):\n",
    "    \n",
    "    m = X.shape[1]\n",
    "    \n",
    "    dg = g - Y\n",
    "    dW = np.matmul(dg, X.T) / m\n",
    "    db = np.sum(dg, axis=1, keepdims=True) / m\n",
    "    \n",
    "    grads = {\"dW\": dW, \"db\": db}\n",
    "    \n",
    "    return grads"
   ]
  },
  {
   "cell_type": "code",
   "execution_count": 74,
   "id": "f32adcae",
   "metadata": {},
   "outputs": [],
   "source": [
    "def param_update(W, b, grads, alpha):\n",
    "    \n",
    "    W -= grads[\"dW\"] * alpha\n",
    "    b -= grads[\"db\"] * alpha \n",
    "    return W, b"
   ]
  },
  {
   "cell_type": "code",
   "execution_count": 76,
   "id": "2f2526b8",
   "metadata": {},
   "outputs": [],
   "source": [
    "def train(X, Y, num_iter=100, alpha=1e-2, n=20):\n",
    "    \n",
    "    cost_ = []\n",
    "    params_ = []\n",
    "    params = {}\n",
    "    \n",
    "    in_layer, out_layer = layer_size(X, Y)\n",
    "    params = param_init(in_layer, out_layer)\n",
    "    params_.append(params)\n",
    "    \n",
    "    for i in range(num_iter):\n",
    "        \n",
    "        Z = for_prop(X, params[\"W\"], params[\"b\"])\n",
    "        g = sigmoid(Z)\n",
    "        cost = compute_cost(g, Y)\n",
    "        grads = back_prop(X, Y, g)\n",
    "        W, b = param_update(W, b, grads, alpha)\n",
    "        params = {\"W\": W, \"b\": b}\n",
    "        cost_.append(cost)\n",
    "        params_.append(params)\n",
    "        \n",
    "        if i % n == 0:\n",
    "            print(f\"Iteration {i}: {cost}\")\n",
    "              \n",
    "    return params, cost_, params\n",
    "    "
   ]
  }
 ],
 "metadata": {
  "kernelspec": {
   "display_name": "Python 3 (ipykernel)",
   "language": "python",
   "name": "python3"
  },
  "language_info": {
   "codemirror_mode": {
    "name": "ipython",
    "version": 3
   },
   "file_extension": ".py",
   "mimetype": "text/x-python",
   "name": "python",
   "nbconvert_exporter": "python",
   "pygments_lexer": "ipython3",
   "version": "3.9.18"
  }
 },
 "nbformat": 4,
 "nbformat_minor": 5
}
