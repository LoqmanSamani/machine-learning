{
 "cells": [
  {
   "cell_type": "markdown",
   "id": "98893ea5",
   "metadata": {},
   "source": [
    "<p><b>Logistic Loss</b> Function (cost function for logistic regression classification)</p>"
   ]
  },
  {
   "cell_type": "code",
   "execution_count": 42,
   "id": "6fa88f60",
   "metadata": {},
   "outputs": [],
   "source": [
    "import numpy as np\n",
    "import matplotlib.pyplot as plt "
   ]
  },
  {
   "cell_type": "code",
   "execution_count": 43,
   "id": "6887dda2",
   "metadata": {},
   "outputs": [],
   "source": [
    "def logistic_loss(A, Y):\n",
    "    \n",
    "    loss = []\n",
    "    \n",
    "    for i in range(len(Y)):\n",
    "        if Y[i] == 1:\n",
    "            l = - np.log(A[i])\n",
    "        else:\n",
    "            l = - np.log(1 - A[i])\n",
    "        loss.append(l)\n",
    "        \n",
    "    cost = np.sum(loss) / len(Y)\n",
    "    \n",
    "    return cost   "
   ]
  },
  {
   "cell_type": "code",
   "execution_count": 53,
   "id": "d20a92a3",
   "metadata": {},
   "outputs": [],
   "source": [
    "def compute_cost_logistic(A, Y):\n",
    "\n",
    "    m = len(Y)\n",
    "    cost = 0.0\n",
    "    for i in range(m):\n",
    "        cost +=  -Y[i]*np.log(A[i]) - (1-Y[i])*np.log(1-A[i])\n",
    "             \n",
    "    cost = cost / m\n",
    "    return cost\n"
   ]
  },
  {
   "cell_type": "code",
   "execution_count": 49,
   "id": "85386a02",
   "metadata": {},
   "outputs": [],
   "source": [
    "def log_loss(A, Y):\n",
    "    loss = [- np.log(i) if j==1 else - np.log(1 - i) for i,j in zip(A, Y)]\n",
    "    cost = np.mean(loss)\n",
    "    return cost"
   ]
  },
  {
   "cell_type": "code",
   "execution_count": 50,
   "id": "f9b76e59",
   "metadata": {},
   "outputs": [],
   "source": [
    "def compute_cost(A, Y):\n",
    "    loss = - np.multiply(np.log(A), Y) - np.multiply(np.log(1 - A), 1 - Y)\n",
    "    cost = np.mean(loss) \n",
    "    return cost"
   ]
  },
  {
   "cell_type": "code",
   "execution_count": 51,
   "id": "0b530da9",
   "metadata": {},
   "outputs": [],
   "source": [
    "A = np.array([0.1, 0.99, 0.55, .999, .87, 0.12, .45])\n",
    "Y = np.array([0, 1, 1, 0, 1, 0, 1])"
   ]
  },
  {
   "cell_type": "code",
   "execution_count": 54,
   "id": "5713089e",
   "metadata": {},
   "outputs": [
    {
     "name": "stdout",
     "output_type": "stream",
     "text": [
      "1.2409437523300357\n",
      "1.2409437523300357\n",
      "1.2409437523300357\n",
      "1.2409437523300357\n"
     ]
    }
   ],
   "source": [
    "print(logistic_loss(A, Y))\n",
    "print(compute_cost(A, Y))\n",
    "print(log_loss(A, Y))\n",
    "print(compute_cost_logistic(A, Y))"
   ]
  }
 ],
 "metadata": {
  "kernelspec": {
   "display_name": "Python 3 (ipykernel)",
   "language": "python",
   "name": "python3"
  },
  "language_info": {
   "codemirror_mode": {
    "name": "ipython",
    "version": 3
   },
   "file_extension": ".py",
   "mimetype": "text/x-python",
   "name": "python",
   "nbconvert_exporter": "python",
   "pygments_lexer": "ipython3",
   "version": "3.9.18"
  }
 },
 "nbformat": 4,
 "nbformat_minor": 5
}
