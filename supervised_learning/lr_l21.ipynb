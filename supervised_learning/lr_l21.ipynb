{
 "cells": [
  {
   "cell_type": "markdown",
   "id": "98893ea5",
   "metadata": {},
   "source": [
    "<p>Logistic Regression with <b>L2 Regularization</b></p>"
   ]
  },
  {
   "cell_type": "code",
   "execution_count": 62,
   "id": "ad3661b2",
   "metadata": {},
   "outputs": [],
   "source": [
    "import numpy as np\n",
    "import matplotlib.pyplot as plt\n",
    "import pandas as pd"
   ]
  },
  {
   "cell_type": "code",
   "execution_count": 63,
   "id": "66ac143f",
   "metadata": {},
   "outputs": [],
   "source": [
    "def layer_size(X, Y):\n",
    "    in_layer, out_layer = (X.shape[0], Y.shape[0])\n",
    "    \n",
    "    return in_layer, out_layer"
   ]
  },
  {
   "cell_type": "code",
   "execution_count": 64,
   "id": "e47f44f5",
   "metadata": {},
   "outputs": [],
   "source": [
    "def param_init(in_layer, out_layer, beta):\n",
    "    \n",
    "    W = np.random.randn(out_layer, in_layer) * beta\n",
    "    b = np.zeros((out_layer, 1))\n",
    "    \n",
    "    params = {\n",
    "        \"W\": W,\n",
    "        \"b\": b\n",
    "    }\n",
    "    return params"
   ]
  },
  {
   "cell_type": "code",
   "execution_count": 65,
   "id": "344d2c46",
   "metadata": {},
   "outputs": [],
   "source": [
    "def compute_cost(A, Y, W, lam):\n",
    "    \n",
    "    m = Y.shape[1]\n",
    "    \n",
    "    log_likelihood = np.sum(\n",
    "        - np.multiply(np.log(A), Y\n",
    "                     ) - np.multiply(np.log(1 - A), 1 - Y)) / m\n",
    "    \n",
    "    reg = (np.sum(np.square(W)) * lam) / (2 * m)\n",
    "    \n",
    "    cost = log_likelihood + reg\n",
    "\n",
    "    return cost"
   ]
  },
  {
   "cell_type": "code",
   "execution_count": 66,
   "id": "1448888d",
   "metadata": {},
   "outputs": [],
   "source": [
    "def sigmoid(Z):\n",
    "    A = 1 / (1 + np.exp(-Z))\n",
    "    return A"
   ]
  },
  {
   "cell_type": "code",
   "execution_count": 67,
   "id": "3cc339f7",
   "metadata": {},
   "outputs": [],
   "source": [
    "def forward_propagation(X, W, b):\n",
    "    Z = np.matmul(W, X) + b\n",
    "    return Z"
   ]
  },
  {
   "cell_type": "code",
   "execution_count": 68,
   "id": "95d5864b",
   "metadata": {},
   "outputs": [],
   "source": [
    "def back_propagation(X, Y, A, W, b, lam):\n",
    "    \n",
    "    m = X.shape[1]\n",
    "    dA = A - Y\n",
    "    dW = (np.matmul(dA, X.T) + (lam * W)) / m\n",
    "    db = np.sum(dA, axis=1, keepdims=True) / m\n",
    "    \n",
    "    grads = {\n",
    "        \"dW\": dW,\n",
    "        \"db\": db\n",
    "    }\n",
    "    return grads   "
   ]
  },
  {
   "cell_type": "code",
   "execution_count": 69,
   "id": "85a4db28",
   "metadata": {},
   "outputs": [],
   "source": [
    "def update_params(W, b, dW, db, alpha):\n",
    "    \n",
    "    W -= alpha * dW\n",
    "    b -= alpha * db\n",
    "    \n",
    "    params = {\n",
    "        \"W\": W,\n",
    "        \"b\": b\n",
    "    }\n",
    "    \n",
    "    return params"
   ]
  },
  {
   "cell_type": "code",
   "execution_count": 70,
   "id": "ebcf6979",
   "metadata": {},
   "outputs": [],
   "source": [
    "def train(X, Y, alpha=1e-2, beta=1e-2, lam=1, num_iter=200, n=20):\n",
    "    \"\"\"Y.shape = (m, n), X.shape = (m, #features)\"\"\"\n",
    "    \n",
    "    cost_ = []\n",
    "    params_ = []\n",
    "    \n",
    "    X = np.transpose(X)\n",
    "    Y = np.transpose(Y)\n",
    "    \n",
    "    in_layer, out_layer = layer_size(X, Y)\n",
    "    params = param_init(in_layer, out_layer, beta)\n",
    "    \n",
    "    for i in range(num_iter):\n",
    "        \n",
    "        Z = forward_propagation(X, params[\"W\"], params[\"b\"])\n",
    "        A = sigmoid(Z)\n",
    "        cost = compute_cost(A, Y, params[\"W\"], lam)\n",
    "        grads = back_propagation(X, Y, A, params[\"W\"], params[\"b\"], lam)\n",
    "        params = update_params(params[\"W\"], params[\"b\"], grads[\"dW\"], grads[\"db\"], alpha)\n",
    "        cost_.append(cost)\n",
    "        params_.append(params)\n",
    "        \n",
    "        if i % n == 0:\n",
    "            print(f\"Iter {i}: {cost}\")\n",
    "            \n",
    "    return params, cost_"
   ]
  },
  {
   "cell_type": "code",
   "execution_count": 105,
   "id": "d8d0b587",
   "metadata": {},
   "outputs": [],
   "source": [
    "def predicted(X, params, threshold=0.5):\n",
    "    \n",
    "    Z = forward_propagation(X, params[\"W\"], params[\"b\"])\n",
    "    A = sigmoid(Z)\n",
    "    predict = np.where(A >= threshold, 1, 0)\n",
    "    \n",
    "    return A, predict"
   ]
  },
  {
   "cell_type": "markdown",
   "id": "5353e833",
   "metadata": {},
   "source": [
    "<p>Generate synthetic data</p>"
   ]
  },
  {
   "cell_type": "code",
   "execution_count": 72,
   "id": "7df65463",
   "metadata": {},
   "outputs": [
    {
     "name": "stdout",
     "output_type": "stream",
     "text": [
      "(672, 3)\n",
      "[[-0.25602039 -1.88340273  0.        ]\n",
      " [-1.89629507 -0.50842846  0.        ]\n",
      " [ 0.19864991 -1.61650674  0.        ]\n",
      " [-0.25871043 -1.21214272  0.        ]\n",
      " [-0.31852879  1.76968245  0.        ]\n",
      " [-0.67866072 -0.51491531  0.        ]\n",
      " [-1.18140546  0.91600321  0.        ]\n",
      " [ 0.47708387 -1.49535957  0.        ]\n",
      " [-0.80138131 -0.99486831  0.        ]\n",
      " [-0.9326909   1.52494119  0.        ]]\n",
      "[[-2.92814828 -2.61860018  1.        ]\n",
      " [ 2.74542458 -1.31599264  1.        ]\n",
      " [ 2.72165382  2.69257603  1.        ]\n",
      " [-2.1251868   3.95340542  1.        ]\n",
      " [-0.02951742 -1.98221349  1.        ]\n",
      " [-3.45090581  2.45684276  1.        ]\n",
      " [ 2.84688297 -1.3401629   1.        ]\n",
      " [ 1.6873011  -2.79083608  1.        ]\n",
      " [ 2.87279511 -0.3862868   1.        ]\n",
      " [-1.69767246 -2.90198885  1.        ]\n",
      " [-2.51017955  3.4959819   1.        ]\n",
      " [-2.970034   -2.19865669  1.        ]]\n"
     ]
    }
   ],
   "source": [
    "np.random.seed(2)\n",
    "x1 = np.random.uniform(-2, 2, 300)\n",
    "x2 = np.random.uniform(-2, 2, 300)\n",
    "y1 = np.zeros((300, 1))\n",
    "d1 = np.c_[x1, x2, y1]\n",
    "\n",
    "\n",
    "\n",
    "x3 = np.random.uniform(-4, 3, 1000)\n",
    "x4 = np.random.uniform(-3, 4, 1000)\n",
    "\n",
    "\n",
    "r = []\n",
    "for i in d:\n",
    "    if i[0] > 1.95 or i[0] < -1.95 and i[1] > 1.95 or i[1] < -1.95:\n",
    "        r.append(i)\n",
    "        \n",
    "r = np.array(r)\n",
    "y2 = np.ones((len(r), 1))\n",
    "\n",
    "d2 = np.c_[r[:, 0], r[:, 1], y2]\n",
    "\n",
    "data = np.vstack((d1, d2))\n",
    "print(data.shape)\n",
    "print(data[:10, :])\n",
    "print(data[660:, :])"
   ]
  },
  {
   "cell_type": "code",
   "execution_count": 73,
   "id": "27704507",
   "metadata": {},
   "outputs": [
    {
     "data": {
      "image/png": "[encoded data removed]",
      "text/plain": [
       "<Figure size 640x480 with 1 Axes>"
      ]
     },
     "metadata": {},
     "output_type": "display_data"
    }
   ],
   "source": [
    "plt.scatter(d2[:, 0], d2[:, 1], color=\"red\")\n",
    "plt.scatter(d1[:, 0], d1[:, 1], color=\"black\")\n",
    "plt.xlabel(\"X1\")\n",
    "plt.ylabel(\"X2\")\n",
    "plt.title(\"Data\")\n",
    "plt.show()"
   ]
  },
  {
   "cell_type": "code",
   "execution_count": 86,
   "id": "7e51bef0",
   "metadata": {},
   "outputs": [
    {
     "name": "stdout",
     "output_type": "stream",
     "text": [
      "(672, 1)\n",
      "(672, 5)\n",
      "600\n",
      "72\n",
      "(600, 5)\n",
      "(600, 1)\n",
      "(72, 5)\n",
      "(72, 1)\n"
     ]
    }
   ],
   "source": [
    "Y = data[:, -1]\n",
    "X = data[:,:-1]\n",
    "Y = Y.reshape((672, 1))\n",
    "print(Y.shape)\n",
    "print(X.shape)\n",
    "data = np.c_[X[:,0], X[:, 1], X[:,0]**2, X[:, 1]**2, X[:, 0]*X[:, 1], Y]\n",
    "np.random.shuffle(data)\n",
    "\n",
    "train_data = data[:600, :]\n",
    "test_data = data[600:, :]\n",
    "print(len(train_data))\n",
    "print(len(test_data))\n",
    "X_train = train_data[:, :-1]\n",
    "Y_train = train_data[:, -1]\n",
    "X_test = test_data[:, :-1]\n",
    "Y_test = test_data[:, -1] \n",
    "Y_train = Y_train.reshape((600, 1))\n",
    "Y_test = Y_test.reshape((72, 1))\n",
    "print(X_train.shape)\n",
    "print(Y_train.shape)\n",
    "print(X_test.shape)\n",
    "print(Y_test.shape)"
   ]
  },
  {
   "cell_type": "code",
   "execution_count": 110,
   "id": "795177bb",
   "metadata": {},
   "outputs": [
    {
     "name": "stdout",
     "output_type": "stream",
     "text": [
      "Iter 0: 0.7022429333099104\n",
      "Iter 50000: 0.14311067597176447\n",
      "Iter 100000: 0.14311067597176447\n",
      "Iter 150000: 0.14311067597176447\n",
      "Iter 200000: 0.14311067597176447\n",
      "Iter 250000: 0.14311067597176447\n",
      "Iter 300000: 0.14311067597176447\n",
      "Iter 350000: 0.14311067597176447\n",
      "Iter 400000: 0.14311067597176447\n",
      "Iter 450000: 0.14311067597176447\n",
      "Iter 500000: 0.14311067597176447\n",
      "Iter 550000: 0.14311067597176447\n",
      "Iter 600000: 0.14311067597176447\n",
      "Iter 650000: 0.14311067597176447\n",
      "Iter 700000: 0.14311067597176447\n",
      "Iter 750000: 0.14311067597176447\n",
      "Iter 800000: 0.14311067597176447\n",
      "Iter 850000: 0.14311067597176447\n",
      "Iter 900000: 0.14311067597176447\n",
      "Iter 950000: 0.14311067597176447\n",
      "{'W': array([[ 0.49855281, -0.5811184 ,  1.16405703,  1.09823478,  0.00808293]]), 'b': array([[-6.45872378]])}\n"
     ]
    }
   ],
   "source": [
    "params, cost = train(X_train, Y_train, alpha=0.3, beta=1e-2, lam=10, num_iter=1000000, n=50000)\n",
    "print(params)"
   ]
  },
  {
   "cell_type": "code",
   "execution_count": 111,
   "id": "e9829ff1",
   "metadata": {},
   "outputs": [
    {
     "name": "stdout",
     "output_type": "stream",
     "text": [
      "[[0 0 1 0 0 0 0 1 1 1 0 0 1 1 0 0 1 1 0 0 0 0 0 1 0 0 0 0 1 1 0 1 1 1 1 0\n",
      "  0 0 1 0 0 0 0 0 0 0 1 1 0 0 0 1 1 1 1 1 1 0 0 0 0 1 1 0 0 0 0 1 1 1 1 1]]\n"
     ]
    }
   ],
   "source": [
    "A, result = predicted(X_test.reshape((5, 72)), params, threshold=0.5)\n",
    "print(result)"
   ]
  }
 ],
 "metadata": {
  "kernelspec": {
   "display_name": "Python 3 (ipykernel)",
   "language": "python",
   "name": "python3"
  },
  "language_info": {
   "codemirror_mode": {
    "name": "ipython",
    "version": 3
   },
   "file_extension": ".py",
   "mimetype": "text/x-python",
   "name": "python",
   "nbconvert_exporter": "python",
   "pygments_lexer": "ipython3",
   "version": "3.9.18"
  }
 },
 "nbformat": 4,
 "nbformat_minor": 5
}
