{
 "cells": [
  {
   "cell_type": "markdown",
   "id": "2c63f59d",
   "metadata": {},
   "source": [
    "<p>Linear Regression with Scikit-Learn</p>"
   ]
  },
  {
   "cell_type": "code",
   "execution_count": 373,
   "id": "e9afb3eb",
   "metadata": {},
   "outputs": [],
   "source": [
    "import numpy as np\n",
    "import matplotlib.pyplot as plt\n",
    "import pandas as pd\n",
    "from sklearn.linear_model import SGDRegressor # gradient descent regression model\n",
    "from sklearn.preprocessing import StandardScaler "
   ]
  },
  {
   "cell_type": "code",
   "execution_count": 374,
   "id": "4092b09a",
   "metadata": {},
   "outputs": [
    {
     "name": "stdout",
     "output_type": "stream",
     "text": [
      "    9.520000000000000000e+02  2.000000000000000000e+00  \\\n",
      "0                     1244.0                       3.0   \n",
      "1                     1947.0                       3.0   \n",
      "2                     1725.0                       3.0   \n",
      "3                     1959.0                       3.0   \n",
      "4                     1314.0                       2.0   \n",
      "..                       ...                       ...   \n",
      "94                    1224.0                       2.0   \n",
      "95                    1432.0                       2.0   \n",
      "96                    1660.0                       3.0   \n",
      "97                    1212.0                       3.0   \n",
      "98                    1050.0                       2.0   \n",
      "\n",
      "    1.000000000000000000e+00  6.500000000000000000e+01  \\\n",
      "0                        1.0                      64.0   \n",
      "1                        2.0                      17.0   \n",
      "2                        2.0                      42.0   \n",
      "3                        2.0                      15.0   \n",
      "4                        1.0                      14.0   \n",
      "..                       ...                       ...   \n",
      "94                       2.0                      12.0   \n",
      "95                       1.0                      43.0   \n",
      "96                       2.0                      19.0   \n",
      "97                       1.0                      20.0   \n",
      "98                       1.0                      65.0   \n",
      "\n",
      "    2.715000000000000000e+02  \n",
      "0                      300.0  \n",
      "1                      509.8  \n",
      "2                      394.0  \n",
      "3                      540.0  \n",
      "4                      415.0  \n",
      "..                       ...  \n",
      "94                     329.0  \n",
      "95                     388.0  \n",
      "96                     390.0  \n",
      "97                     356.0  \n",
      "98                     257.8  \n",
      "\n",
      "[99 rows x 5 columns]\n"
     ]
    }
   ],
   "source": [
    "path = \"/home/sam/Documents/projects/machine_learning/data/houses.txt\"\n",
    "with open(path) as file:\n",
    "    data = pd.read_csv(file)\n",
    "    \n",
    "print(data)"
   ]
  },
  {
   "cell_type": "code",
   "execution_count": 381,
   "id": "2f1ffb6d",
   "metadata": {},
   "outputs": [
    {
     "name": "stdout",
     "output_type": "stream",
     "text": [
      "[[1.244e+03 1.947e+03 1.725e+03 1.959e+03 1.314e+03 8.640e+02 1.836e+03\n",
      "  1.026e+03 3.194e+03 7.880e+02 1.200e+03 1.557e+03 1.430e+03 1.220e+03\n",
      "  1.092e+03 8.480e+02 1.682e+03 1.768e+03 1.040e+03 1.652e+03]\n",
      " [3.000e+00 3.000e+00 3.000e+00 3.000e+00 2.000e+00 2.000e+00 3.000e+00\n",
      "  3.000e+00 4.000e+00 2.000e+00 2.000e+00 2.000e+00 3.000e+00 2.000e+00\n",
      "  2.000e+00 1.000e+00 3.000e+00 3.000e+00 3.000e+00 2.000e+00]\n",
      " [1.000e+00 2.000e+00 2.000e+00 2.000e+00 1.000e+00 1.000e+00 1.000e+00\n",
      "  1.000e+00 2.000e+00 1.000e+00 2.000e+00 1.000e+00 1.000e+00 1.000e+00\n",
      "  1.000e+00 1.000e+00 2.000e+00 2.000e+00 1.000e+00 1.000e+00]\n",
      " [6.400e+01 1.700e+01 4.200e+01 1.500e+01 1.400e+01 6.600e+01 1.700e+01\n",
      "  4.300e+01 8.700e+01 8.000e+01 1.700e+01 1.800e+01 2.000e+01 1.500e+01\n",
      "  6.400e+01 1.700e+01 2.300e+01 1.800e+01 4.400e+01 2.100e+01]]\n",
      "[300.    509.8   394.    540.    415.    230.    560.    294.    718.2\n",
      " 200.    302.    468.    374.2   388.    282.    311.8   401.    449.8\n",
      " 301.    502.    340.    400.282 572.    264.    304.    298.    219.8\n",
      " 490.7   216.96  368.2   280.    526.87  237.    562.426 369.8   460.\n",
      " 374.    390.    158.    426.    390.    277.774 216.96  425.8   504.\n",
      " 329.    464.    220.    358.    478.    334.    426.98  290.    463.\n",
      " 390.8   354.    350.    460.    237.    288.304 282.    249.    304.\n",
      " 332.    351.8   310.    216.96  666.336 330.    480.    330.3   348.\n",
      " 304.    384.    316.    430.4   450.    284.    275.    414.    258.\n",
      " 378.    350.    412.    373.    225.    390.    267.4   464.    174.\n",
      " 340.    430.    440.    216.    329.    388.    390.    356.    257.8  ]\n",
      "(99,)\n"
     ]
    }
   ],
   "source": [
    "features = ['size(sqft)','bedrooms','floors','age']\n",
    "X = np.array([data[\"9.520000000000000000e+02\"],\n",
    "             data[\"2.000000000000000000e+00\"],\n",
    "             data[\"1.000000000000000000e+00\"],\n",
    "             data[\"6.500000000000000000e+01\"]])\n",
    "\n",
    "Y = np.array(data[\"2.715000000000000000e+02\"])\n",
    "print(X[:, :20])\n",
    "print(Y)\n",
    "print(Y.shape)"
   ]
  },
  {
   "cell_type": "code",
   "execution_count": 380,
   "id": "7258afb5",
   "metadata": {},
   "outputs": [
    {
     "name": "stdout",
     "output_type": "stream",
     "text": [
      "[[ 1.73006889  1.73200764  1.73163968  1.7320191   1.73198021  1.72753969\n",
      "   1.73199834  1.73078224  1.73150791  1.7239021   1.73192912  1.73196334\n",
      "   1.73192633  1.73195523  1.72942818  1.73177269  1.73193498  1.73199094\n",
      "   1.73075504  1.7319423   1.73130369  1.73198487  1.73193422  1.72767547\n",
      "   1.73124589  1.73011332  1.72928945  1.73201732  1.72516845  1.73194526\n",
      "   1.73058383  1.73203199  1.72923961  1.73202919  1.73190317  1.73198037\n",
      "   1.73136853  1.73197381  1.72592736  1.73188978  1.73171522  1.72932632\n",
      "   1.72516845  1.73198666  1.73201361  1.73199898  1.73199166  1.72818128\n",
      "   1.73189493  1.73200461  1.73096674  1.73197859  1.73164156  1.73193501\n",
      "   1.73196721  1.7318837   1.73036099  1.73196788  1.72950381  1.73192909\n",
      "   1.72987508  1.73036933  1.73166516  1.7304736   1.73183723  1.73003897\n",
      "   1.72516845  1.73200903  1.73079299  1.73195239  1.73153135  1.73198624\n",
      "   1.73166516  1.73189748  1.73051042  1.73202132  1.73197554  1.73018974\n",
      "   1.72650503  1.73194922  1.72996759  1.73198372  1.73186157  1.73195331\n",
      "   1.73199187  1.729776    1.73171522  1.72938062  1.73199166  1.72421223\n",
      "   1.73192012  1.73104758  1.73198574  1.7297328   1.73199898  1.7313903\n",
      "   1.73197381  1.73187718  1.72911668]\n",
      " [-0.61383449 -0.58249509 -0.59432251 -0.58167689 -0.58379868 -0.63336275\n",
      "  -0.58238326 -0.60585944 -0.59687663 -0.652226   -0.58698799 -0.58477042\n",
      "  -0.58542845 -0.58492722 -0.62030908 -0.59188904 -0.58605532 -0.58345235\n",
      "  -0.60621498 -0.58574204 -0.59999923 -0.58261679 -0.58750354 -0.63266989\n",
      "  -0.59981012 -0.61413759 -0.61988476 -0.58098666 -0.64666134 -0.58549815\n",
      "  -0.60842412 -0.58053595 -0.62291377 -0.58045375 -0.5869792  -0.58405089\n",
      "  -0.59940477 -0.584314   -0.64390575 -0.58776909 -0.59214968 -0.62089384\n",
      "  -0.64666134 -0.58280828 -0.58208474 -0.58364955 -0.58259206 -0.62915356\n",
      "  -0.58648456 -0.58176172 -0.60428336 -0.583999   -0.59279508 -0.58608707\n",
      "  -0.58436487 -0.58783635 -0.61217949 -0.5838685  -0.61845637 -0.58698914\n",
      "  -0.61547565 -0.61131086 -0.59216114 -0.60996246 -0.58936869 -0.61407197\n",
      "  -0.64666134 -0.58209236 -0.6063913  -0.58546042 -0.59585529 -0.58358281\n",
      "  -0.59216114 -0.58649915 -0.60922063 -0.58133588 -0.58434433 -0.61232366\n",
      "  -0.6397811  -0.58529118 -0.61421504 -0.58370282 -0.58854349 -0.58500253\n",
      "  -0.58330558 -0.61572821 -0.59214968 -0.61949653 -0.58259206 -0.65084193\n",
      "  -0.58651329 -0.60337759 -0.58284725 -0.61629877 -0.58364955 -0.59885735\n",
      "  -0.584314   -0.58688197 -0.6227513 ]\n",
      " [-0.61761193 -0.58368568 -0.59567325 -0.58285977 -0.58556375 -0.63610161\n",
      "  -0.5849085  -0.61042765 -0.59833644 -0.65524906 -0.58698799 -0.58626028\n",
      "  -0.58867632 -0.58682942 -0.6224648  -0.59188904 -0.5874359  -0.58476422\n",
      "  -0.61072216 -0.5871467  -0.60214592 -0.58614246 -0.58604752 -0.63510324\n",
      "  -0.60407164 -0.61647716 -0.62509935 -0.58372232 -0.64887594 -0.58713476\n",
      "  -0.61245342 -0.58173293 -0.62291377 -0.58232016 -0.58891482 -0.58531166\n",
      "  -0.60066601 -0.58571188 -0.64390575 -0.58907816 -0.59444373 -0.62353453\n",
      "  -0.64887594 -0.58579704 -0.58327146 -0.58364955 -0.58546197 -0.63204954\n",
      "  -0.5899294  -0.58471295 -0.60743272 -0.58553888 -0.59704451 -0.58740338\n",
      "  -0.58628555 -0.58941762 -0.61350671 -0.58667387 -0.62303329 -0.58698914\n",
      "  -0.61956519 -0.61418762 -0.59664296 -0.61333242 -0.59081945 -0.61794014\n",
      "  -0.64887594 -0.58387587 -0.60966467 -0.58657083 -0.59846154 -0.58514633\n",
      "  -0.59664296 -0.5897462  -0.61326861 -0.58283416 -0.58551419 -0.61677288\n",
      "  -0.64178983 -0.58700006 -0.61911407 -0.58529654 -0.59015153 -0.58692372\n",
      "  -0.58479932 -0.62106497 -0.59444373 -0.62402667 -0.58546197 -0.65380704\n",
      "  -0.58813798 -0.60620206 -0.58585744 -0.62126392 -0.58364955 -0.60048689\n",
      "  -0.58571188 -0.5907178  -0.62499545]\n",
      " [-0.49862247 -0.56582686 -0.54164393 -0.56748244 -0.56261777 -0.45807533\n",
      "  -0.56470659 -0.51449515 -0.53629484 -0.41642703 -0.55795314 -0.56093264\n",
      "  -0.55782156 -0.56019859 -0.4866543  -0.5479946  -0.55844376 -0.56377437\n",
      "  -0.5138179  -0.55905356 -0.52915854 -0.56322561 -0.55838316 -0.45990234\n",
      "  -0.52736413 -0.49949857 -0.48430534 -0.56730834 -0.42963117 -0.55931235\n",
      "  -0.5097063  -0.56976311 -0.48341208 -0.56925528 -0.55600915 -0.56261783\n",
      "  -0.53129775 -0.56194792 -0.43811586 -0.55504253 -0.54512181 -0.48489795\n",
      "  -0.42963117 -0.56338134 -0.56665742 -0.56469989 -0.56393763 -0.46697819\n",
      "  -0.55548097 -0.56552994 -0.51925066 -0.5624407  -0.54180196 -0.55844456\n",
      "  -0.56131679 -0.55462973 -0.5046748  -0.56142551 -0.48801414 -0.55795081\n",
      "  -0.49483424 -0.50487085 -0.54286106 -0.50717873 -0.5516491  -0.49802687\n",
      "  -0.42963117 -0.56604079 -0.51473702 -0.55992114 -0.53721452 -0.56325709\n",
      "  -0.54286106 -0.55565213 -0.50802119 -0.56785128 -0.56211702 -0.5010932\n",
      "  -0.44493411 -0.55965799 -0.49663848 -0.56298435 -0.55316656 -0.56002706\n",
      "  -0.56388696 -0.49298282 -0.54512181 -0.48585742 -0.56393763 -0.41956325\n",
      "  -0.55726886 -0.52146793 -0.56328105 -0.49217011 -0.56469989 -0.53204605\n",
      "  -0.56194792 -0.55427742 -0.48136993]]\n",
      "(4, 99)\n"
     ]
    }
   ],
   "source": [
    "obj = StandardScaler()\n",
    "X_norm = obj.fit_transform(X) # z-score normalization\n",
    "print(X_norm)\n",
    "print(X_norm.shape)"
   ]
  },
  {
   "cell_type": "code",
   "execution_count": 387,
   "id": "ad769ea9",
   "metadata": {},
   "outputs": [
    {
     "data": {
      "text/html": [
       "<style>#sk-container-id-2 {color: black;}#sk-container-id-2 pre{padding: 0;}#sk-container-id-2 div.sk-toggleable {background-color: white;}#sk-container-id-2 label.sk-toggleable__label {cursor: pointer;display: block;width: 100%;margin-bottom: 0;padding: 0.3em;box-sizing: border-box;text-align: center;}#sk-container-id-2 label.sk-toggleable__label-arrow:before {content: \"▸\";float: left;margin-right: 0.25em;color: #696969;}#sk-container-id-2 label.sk-toggleable__label-arrow:hover:before {color: black;}#sk-container-id-2 div.sk-estimator:hover label.sk-toggleable__label-arrow:before {color: black;}#sk-container-id-2 div.sk-toggleable__content {max-height: 0;max-width: 0;overflow: hidden;text-align: left;background-color: #f0f8ff;}#sk-container-id-2 div.sk-toggleable__content pre {margin: 0.2em;color: black;border-radius: 0.25em;background-color: #f0f8ff;}#sk-container-id-2 input.sk-toggleable__control:checked~div.sk-toggleable__content {max-height: 200px;max-width: 100%;overflow: auto;}#sk-container-id-2 input.sk-toggleable__control:checked~label.sk-toggleable__label-arrow:before {content: \"▾\";}#sk-container-id-2 div.sk-estimator input.sk-toggleable__control:checked~label.sk-toggleable__label {background-color: #d4ebff;}#sk-container-id-2 div.sk-label input.sk-toggleable__control:checked~label.sk-toggleable__label {background-color: #d4ebff;}#sk-container-id-2 input.sk-hidden--visually {border: 0;clip: rect(1px 1px 1px 1px);clip: rect(1px, 1px, 1px, 1px);height: 1px;margin: -1px;overflow: hidden;padding: 0;position: absolute;width: 1px;}#sk-container-id-2 div.sk-estimator {font-family: monospace;background-color: #f0f8ff;border: 1px dotted black;border-radius: 0.25em;box-sizing: border-box;margin-bottom: 0.5em;}#sk-container-id-2 div.sk-estimator:hover {background-color: #d4ebff;}#sk-container-id-2 div.sk-parallel-item::after {content: \"\";width: 100%;border-bottom: 1px solid gray;flex-grow: 1;}#sk-container-id-2 div.sk-label:hover label.sk-toggleable__label {background-color: #d4ebff;}#sk-container-id-2 div.sk-serial::before {content: \"\";position: absolute;border-left: 1px solid gray;box-sizing: border-box;top: 0;bottom: 0;left: 50%;z-index: 0;}#sk-container-id-2 div.sk-serial {display: flex;flex-direction: column;align-items: center;background-color: white;padding-right: 0.2em;padding-left: 0.2em;position: relative;}#sk-container-id-2 div.sk-item {position: relative;z-index: 1;}#sk-container-id-2 div.sk-parallel {display: flex;align-items: stretch;justify-content: center;background-color: white;position: relative;}#sk-container-id-2 div.sk-item::before, #sk-container-id-2 div.sk-parallel-item::before {content: \"\";position: absolute;border-left: 1px solid gray;box-sizing: border-box;top: 0;bottom: 0;left: 50%;z-index: -1;}#sk-container-id-2 div.sk-parallel-item {display: flex;flex-direction: column;z-index: 1;position: relative;background-color: white;}#sk-container-id-2 div.sk-parallel-item:first-child::after {align-self: flex-end;width: 50%;}#sk-container-id-2 div.sk-parallel-item:last-child::after {align-self: flex-start;width: 50%;}#sk-container-id-2 div.sk-parallel-item:only-child::after {width: 0;}#sk-container-id-2 div.sk-dashed-wrapped {border: 1px dashed gray;margin: 0 0.4em 0.5em 0.4em;box-sizing: border-box;padding-bottom: 0.4em;background-color: white;}#sk-container-id-2 div.sk-label label {font-family: monospace;font-weight: bold;display: inline-block;line-height: 1.2em;}#sk-container-id-2 div.sk-label-container {text-align: center;}#sk-container-id-2 div.sk-container {/* jupyter's `normalize.less` sets `[hidden] { display: none; }` but bootstrap.min.css set `[hidden] { display: none !important; }` so we also need the `!important` here to be able to override the default hidden behavior on the sphinx rendered scikit-learn.org. See: https://github.com/scikit-learn/scikit-learn/issues/21755 */display: inline-block !important;position: relative;}#sk-container-id-2 div.sk-text-repr-fallback {display: none;}</style><div id=\"sk-container-id-2\" class=\"sk-top-container\"><div class=\"sk-text-repr-fallback\"><pre>SGDRegressor()</pre><b>In a Jupyter environment, please rerun this cell to show the HTML representation or trust the notebook. <br />On GitHub, the HTML representation is unable to render, please try loading this page with nbviewer.org.</b></div><div class=\"sk-container\" hidden><div class=\"sk-item\"><div class=\"sk-estimator sk-toggleable\"><input class=\"sk-toggleable__control sk-hidden--visually\" id=\"sk-estimator-id-2\" type=\"checkbox\" checked><label for=\"sk-estimator-id-2\" class=\"sk-toggleable__label sk-toggleable__label-arrow\">SGDRegressor</label><div class=\"sk-toggleable__content\"><pre>SGDRegressor()</pre></div></div></div></div></div>"
      ],
      "text/plain": [
       "SGDRegressor()"
      ]
     },
     "execution_count": 387,
     "metadata": {},
     "output_type": "execute_result"
    }
   ],
   "source": [
    "model = SGDRegressor(max_iter=1000)\n",
    "model.fit(X_norm.reshape((99, 4)), Y)\n"
   ]
  },
  {
   "cell_type": "code",
   "execution_count": 388,
   "id": "123dbc01",
   "metadata": {},
   "outputs": [],
   "source": [
    "w_norm = model.coef_\n",
    "b_norm = model.intercept_"
   ]
  },
  {
   "cell_type": "code",
   "execution_count": 389,
   "id": "e7e7c09f",
   "metadata": {},
   "outputs": [
    {
     "name": "stdout",
     "output_type": "stream",
     "text": [
      "[1.42151089 2.39291286 4.95502844 7.3509989 ]\n",
      "[362.03682448]\n"
     ]
    }
   ],
   "source": [
    "print(w_norm)\n",
    "print(b_norm)"
   ]
  },
  {
   "cell_type": "code",
   "execution_count": 394,
   "id": "b47749f3",
   "metadata": {},
   "outputs": [],
   "source": [
    "y_pred_sgd = model.predict(X_norm.reshape((99, 4)))\n",
    "                           \n",
    "y_pred = np.dot(X_norm.reshape((99, 4)), w_norm) + b_norm  "
   ]
  },
  {
   "cell_type": "code",
   "execution_count": 395,
   "id": "222c4064",
   "metadata": {},
   "outputs": [
    {
     "name": "stdout",
     "output_type": "stream",
     "text": [
      "[389.95307398 389.93778453 389.936748   389.94281948 389.95073871\n",
      " 389.92430419 389.93855565 389.94082165 389.9529676  389.92558513\n",
      " 389.9166945  389.92934998 389.95203023 389.95576334 389.94214912\n",
      " 389.93764343 389.91873766 389.95319271 389.9495003  389.92547821\n",
      " 389.95348859 389.93144625 389.93140145 389.94751329 372.698601\n",
      " 352.61291038 352.35320982 352.50402904 352.48007944 352.4438588\n",
      " 352.25868279 352.04807873 352.29301605 352.50690055 352.40010115\n",
      " 352.440077   352.38434715 352.51247874 352.39248452 352.29402813\n",
      " 352.3960195  352.27464422 352.53411102 352.56924733 352.22023078\n",
      " 352.61216839 352.39234102 352.43390775 352.50147975 352.3614183\n",
      " 352.21786853 351.96316129 352.56885455 352.52628236 352.47130263\n",
      " 352.15908974 352.22021656 352.40698881 352.51719128 352.18280551\n",
      " 352.53214517 352.4708032  352.49583457 352.440406   352.16170637\n",
      " 352.25103456 352.38448889 352.49429418 352.33524888 352.3496312\n",
      " 352.33031515 351.99145923 352.28034059 352.52566254 353.1699144\n",
      " 353.46291294 353.85723652 353.55143907 353.35094406 353.08042053\n",
      " 354.08597422 353.68406052 353.16223827 353.96065078 354.3824951\n",
      " 352.93640103 353.42456441 353.04747622 353.6714987  353.5673756\n",
      " 354.36986063 353.27698196 353.44939386 354.13087945 353.1969217\n",
      " 353.44147378 353.82128865 353.35784452 353.65081266]\n",
      "[389.95307398 389.93778453 389.936748   389.94281948 389.95073871\n",
      " 389.92430419 389.93855565 389.94082165 389.9529676  389.92558513\n",
      " 389.9166945  389.92934998 389.95203023 389.95576334 389.94214912\n",
      " 389.93764343 389.91873766 389.95319271 389.9495003  389.92547821\n",
      " 389.95348859 389.93144625 389.93140145 389.94751329 372.698601\n",
      " 352.61291038 352.35320982 352.50402904 352.48007944 352.4438588\n",
      " 352.25868279 352.04807873 352.29301605 352.50690055 352.40010115\n",
      " 352.440077   352.38434715 352.51247874 352.39248452 352.29402813\n",
      " 352.3960195  352.27464422 352.53411102 352.56924733 352.22023078\n",
      " 352.61216839 352.39234102 352.43390775 352.50147975 352.3614183\n",
      " 352.21786853 351.96316129 352.56885455 352.52628236 352.47130263\n",
      " 352.15908974 352.22021656 352.40698881 352.51719128 352.18280551\n",
      " 352.53214517 352.4708032  352.49583457 352.440406   352.16170637\n",
      " 352.25103456 352.38448889 352.49429418 352.33524888 352.3496312\n",
      " 352.33031515 351.99145923 352.28034059 352.52566254 353.1699144\n",
      " 353.46291294 353.85723652 353.55143907 353.35094406 353.08042053\n",
      " 354.08597422 353.68406052 353.16223827 353.96065078 354.3824951\n",
      " 352.93640103 353.42456441 353.04747622 353.6714987  353.5673756\n",
      " 354.36986063 353.27698196 353.44939386 354.13087945 353.1969217\n",
      " 353.44147378 353.82128865 353.35784452 353.65081266]\n"
     ]
    }
   ],
   "source": [
    "print(y_pred_sgd)\n",
    "print(y_pred)"
   ]
  }
 ],
 "metadata": {
  "kernelspec": {
   "display_name": "Python 3 (ipykernel)",
   "language": "python",
   "name": "python3"
  },
  "language_info": {
   "codemirror_mode": {
    "name": "ipython",
    "version": 3
   },
   "file_extension": ".py",
   "mimetype": "text/x-python",
   "name": "python",
   "nbconvert_exporter": "python",
   "pygments_lexer": "ipython3",
   "version": "3.9.18"
  }
 },
 "nbformat": 4,
 "nbformat_minor": 5
}
